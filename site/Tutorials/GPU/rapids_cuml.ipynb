{
 "cells": [
  {
   "cell_type": "markdown",
   "id": "146078eb",
   "metadata": {},
   "source": [
    "# RAPIDS-cuML: Train your Scikit-learn models on AAU GPUs\n",
    "\n",
    "This tutorial show how to deploy [RAPIDS-cuML-GPU Machine Learning Algorithms](https://github.com/rapidsai/cuml) to efficiently train your scikit-learn models on the AAU GPUs avalaible through UCloud. \n",
    "\n",
    "\"cuML is a suite of libraries that implement machine learning algorithms and mathematical primitives functions. cuML enables data scientists, researchers, and software engineers to run traditional tabular ML tasks on GPUs without going into the details of CUDA programming. For large datasets, these GPU-based implementations can complete 10-50x faster than their CPU equivalents. For details on performance, see the [cuML Benchmarks Notebook](https://github.com/rapidsai/cuml/tree/branch-23.04/notebooks/tools).\"\n",
    "\n",
    " **In most cases, cuML's Python API matches the API from scikit-learn. which will make it easy to navigate from scikit-learn to RAPIDS-cuML**\n",
    "\n",
    "A table of the supported algoritmns can be found [here](https://github.com/rapidsai/cuml#supported-algorithms). \n",
    "\n",
    "This tutorial will use a random forrest which can be found on the [cuML notebook examples](https://github.com/rapidsai/cuml/tree/branch-23.04/notebooks)\n",
    "\n",
    "The following python script is needed to replicate this tutorial: \n",
    "\n",
    "- [multigpu_rapids_cuml.py](https://github.com/CBS-HPC/Tutorials/tree/main/GPU/multigpu_rapids_cuml.py) (Can be used as template)\n",
    "\n",
    "\n",
    "Prerequisite reading:\n",
    "\n",
    "- [How to Generate SSH key](/Tutorials/SHH/shh_create/)\n",
    "\n",
    "- [Access VM using SSH](/Tutorials/SSH/ssh_connect/)\n",
    "\n",
    "- [Conda: for easy workflow deployment on AAU GPU VMs](/Tutorials/VMs/condaVM/)"
   ]
  },
  {
   "cell_type": "markdown",
   "id": "cc96308e",
   "metadata": {},
   "source": [
    "### Update VM"
   ]
  },
  {
   "cell_type": "code",
   "execution_count": null,
   "id": "893ef50e",
   "metadata": {
    "vscode": {
     "languageId": "shellscript"
    }
   },
   "outputs": [],
   "source": [
    "sudo apt update\n",
    "sudo apt upgrade -y \n",
    "sudo apt install nvidia-driver-525 nvidia-utils-525 -y  # Or newer version"
   ]
  },
  {
   "cell_type": "markdown",
   "id": "9a0a4fce",
   "metadata": {},
   "source": [
    "### Activate Conda\n",
    "\n",
    "This can be done by either installing a conda from scratch or by deploying er prior installation. Please see  [\"Using Conda for easy workflow deployment on AAU GPU VMs\"](/Tutorials/VMs/condaVM/) for information."
   ]
  },
  {
   "cell_type": "code",
   "execution_count": null,
   "id": "9de54fa2",
   "metadata": {
    "vscode": {
     "languageId": "shellscript"
    }
   },
   "outputs": [],
   "source": [
    "# Download and install miniconda (If needed)\n",
    "curl -s -L -o miniconda_installer.sh https://repo.anaconda.com/miniconda/Miniconda3-latest-Linux-x86_64.sh \n",
    "bash miniconda_installer.sh -b -f -p miniconda3\n",
    "\n",
    "# Set conda to path\n",
    "export PATH=/home/ucloud/miniconda3/bin:$PATH # Set conda to path\n",
    "\n",
    "# initialize conda\n",
    "conda init && bash -i\n",
    "\n",
    "# Reboot VM\n",
    "sudo reboot"
   ]
  },
  {
   "cell_type": "markdown",
   "id": "cde7003c",
   "metadata": {},
   "source": [
    "### Re-connect to VM using SSH "
   ]
  },
  {
   "cell_type": "code",
   "execution_count": null,
   "id": "bc34140d",
   "metadata": {
    "vscode": {
     "languageId": "shellscript"
    }
   },
   "outputs": [],
   "source": [
    "ssh ucloud@IP_address_from_the_red_mark"
   ]
  },
  {
   "cell_type": "markdown",
   "id": "618a940f",
   "metadata": {},
   "source": [
    "### Check nvidia driver Configuration"
   ]
  },
  {
   "cell_type": "code",
   "execution_count": null,
   "id": "09aa33cc",
   "metadata": {
    "vscode": {
     "languageId": "shellscript"
    }
   },
   "outputs": [],
   "source": [
    "nvidia-smi\n",
    "\n",
    "# Expected Output\n",
    "Mon Aug  7 09:38:25 2023\n",
    "+-----------------------------------------------------------------------------+\n",
    "| NVIDIA-SMI 470.199.02   Driver Version: 470.199.02   CUDA Version: 11.4     |\n",
    "|-------------------------------+----------------------+----------------------+\n",
    "| GPU  Name        Persistence-M| Bus-Id        Disp.A | Volatile Uncorr. ECC |\n",
    "| Fan  Temp  Perf  Pwr:Usage/Cap|         Memory-Usage | GPU-Util  Compute M. |\n",
    "|                               |                      |               MIG M. |\n",
    "|===============================+======================+======================|\n",
    "|   0  Tesla T4            Off  | 00000000:00:05.0 Off |                    0 |\n",
    "| N/A   70C    P0    31W /  70W |      0MiB / 15109MiB |      7%      Default |\n",
    "|                               |                      |                  N/A |\n",
    "+-------------------------------+----------------------+----------------------+\n",
    "\n",
    "+-----------------------------------------------------------------------------+\n",
    "| Processes:                                                                  |\n",
    "|  GPU   GI   CI        PID   Type   Process name                  GPU Memory |\n",
    "|        ID   ID                                                   Usage      |\n",
    "|=============================================================================|\n",
    "|  No running processes found                                                 |\n",
    "+-----------------------------------------------------------------------------+"
   ]
  },
  {
   "cell_type": "markdown",
   "id": "48acbfb3",
   "metadata": {},
   "source": [
    "### Create or re-load a RAPIDS Conda environment\n",
    "\n",
    "look for latest RAPIDS installation at https://docs.rapids.ai/install"
   ]
  },
  {
   "cell_type": "code",
   "execution_count": null,
   "id": "129f32b6",
   "metadata": {
    "vscode": {
     "languageId": "shellscript"
    }
   },
   "outputs": [],
   "source": [
    "# Create pytorch conda environment if non-exist on the Conda installation\n",
    "conda deactivate\n",
    "conda create --solver=libmamba -n rapids -c rapidsai -c conda-forge -c nvidia  \\\n",
    "    rapids=23.08 python=3.10 cuda-version=11.8\n",
    "\n",
    "\n",
    "# Set pre-installed conda libraries to path (including cudatoolkit=11.2 cudnn=8.1.0 )\n",
    "export LD_LIBRARY_PATH=$LD_LIBRARY_PATH:$CONDA_PREFIX/lib/"
   ]
  },
  {
   "cell_type": "markdown",
   "id": "13010f19",
   "metadata": {},
   "source": [
    "\n",
    "### Transfer Files and Folders (SSH-Copy) to VM\n",
    "Open a second terminal (1st terminal is connected to the VM):"
   ]
  },
  {
   "cell_type": "code",
   "execution_count": null,
   "id": "de36343a",
   "metadata": {
    "vscode": {
     "languageId": "shellscript"
    }
   },
   "outputs": [],
   "source": [
    "scp -r \"C:\\path\\pytorch_folder\" ucloud@IP_address_from_the_red_mark:"
   ]
  },
  {
   "cell_type": "markdown",
   "id": "90899ed3",
   "metadata": {},
   "source": [
    "### Run a Random Forrest training on multiple GPUs: "
   ]
  },
  {
   "cell_type": "code",
   "execution_count": null,
   "id": "bf2da8dd",
   "metadata": {
    "vscode": {
     "languageId": "shellscript"
    }
   },
   "outputs": [],
   "source": [
    "python multigpu_rapids_cuml.py"
   ]
  },
  {
   "cell_type": "markdown",
   "id": "6088a5ff",
   "metadata": {},
   "source": [
    "### Track the GPU usage "
   ]
  },
  {
   "cell_type": "code",
   "execution_count": null,
   "id": "ff65ba20",
   "metadata": {
    "vscode": {
     "languageId": "shellscript"
    }
   },
   "outputs": [],
   "source": [
    "nvidia-smi -l 5 # Will update every 5 seconds\n",
    "\n",
    "# Expected Output\n",
    "Mon Aug  7 09:38:25 2023\n",
    "+-----------------------------------------------------------------------------+\n",
    "| Processes:                                                                  |\n",
    "|  GPU   GI   CI        PID   Type   Process name                  GPU Memory |\n",
    "|        ID   ID                                                   Usage      |\n",
    "|=============================================================================|\n",
    "|    0   N/A  N/A      1011      G   /usr/lib/xorg/Xorg                  4MiB |\n",
    "|    0   N/A  N/A      2312      C   python                           1324MiB |\n",
    "|    0   N/A  N/A      2381      C   ...a3/envs/rapids/bin/python     1042MiB |\n",
    "|    1   N/A  N/A      1011      G   /usr/lib/xorg/Xorg                  4MiB |\n",
    "|    1   N/A  N/A      2383      C   ...a3/envs/rapids/bin/python     1042MiB |\n",
    "+-----------------------------------------------------------------------------+\n",
    "Tue Aug 29 11:04:31 2023\n",
    "+-----------------------------------------------------------------------------+\n",
    "| NVIDIA-SMI 525.125.06   Driver Version: 525.125.06   CUDA Version: 12.0     |\n",
    "|-------------------------------+----------------------+----------------------+\n",
    "| GPU  Name        Persistence-M| Bus-Id        Disp.A | Volatile Uncorr. ECC |\n",
    "| Fan  Temp  Perf  Pwr:Usage/Cap|         Memory-Usage | GPU-Util  Compute M. |\n",
    "|                               |                      |               MIG M. |\n",
    "|===============================+======================+======================|\n",
    "|   0  Tesla T4            Off  | 00000000:00:05.0 Off |                    0 |\n",
    "| N/A   38C    P0    49W /  70W |   2389MiB / 15360MiB |     93%      Default |\n",
    "|                               |                      |                  N/A |\n",
    "+-------------------------------+----------------------+----------------------+\n",
    "|   1  Tesla T4            Off  | 00000000:00:06.0 Off |                    0 |\n",
    "| N/A   36C    P0    53W /  70W |   1067MiB / 15360MiB |     93%      Default |\n",
    "|                               |                      |                  N/A |\n",
    "+-------------------------------+----------------------+----------------------+"
   ]
  },
  {
   "cell_type": "markdown",
   "id": "cef9f25d",
   "metadata": {},
   "source": [
    "### Transfer Results and Conda enviroment local machine (SSH-Copy)\n",
    "Open a second terminal (1st terminal is connected to the VM):"
   ]
  },
  {
   "cell_type": "code",
   "execution_count": null,
   "id": "9eacf695",
   "metadata": {
    "vscode": {
     "languageId": "shellscript"
    }
   },
   "outputs": [],
   "source": [
    "scp -r ucloud@IP_address_from_the_red_mark:/home/ucloud/folder \"C:\\path-to-folder\""
   ]
  }
 ],
 "metadata": {
  "kernelspec": {
   "display_name": "R",
   "language": "R",
   "name": "ir"
  },
  "language_info": {
   "codemirror_mode": "r",
   "file_extension": ".r",
   "mimetype": "text/x-r-source",
   "name": "R",
   "pygments_lexer": "r",
   "version": "4.2.2"
  }
 },
 "nbformat": 4,
 "nbformat_minor": 5
}
