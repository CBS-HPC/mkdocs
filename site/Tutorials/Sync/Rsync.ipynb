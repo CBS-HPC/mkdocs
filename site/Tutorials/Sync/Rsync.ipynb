{
 "cells": [
  {
   "attachments": {},
   "cell_type": "markdown",
   "id": "125fd174",
   "metadata": {},
   "source": [
    "# UCloud Tutorial: Transfer large data to UCloud using Rsync\n",
    "\n",
    "This application is used to deploy an rsync server, which is a utility to efficiently transfer and synchronize files and directories between two different systems\n",
    "\n",
    "[UCloud documentation on Rsync](https://docs.cloud.sdu.dk/Apps/rsync.html)"
   ]
  },
  {
   "attachments": {},
   "cell_type": "markdown",
   "id": "ec7b4deb",
   "metadata": {},
   "source": [
    "# Installing Ubuntu on local machine (For Windows)\n",
    "\n",
    "Video Tutorial found [here](https://www.google.com/search?client=firefox-b-d&q=install+rsync+on+windows#fpstate=ive&vld=cid:da30000b,vid:qJN9mb8fjDM)\n"
   ]
  },
  {
   "attachments": {},
   "cell_type": "markdown",
   "id": "b37707db",
   "metadata": {},
   "source": [
    "## Add public SSH key to UCloud\n",
    "\n",
    "Information on how to generate a SSH key can be found [here](https://github.com/CBS-HPC/Tutorials/blob/main/VMs/shh.ipynb)\n",
    "\n",
    "Copy the public SSH key (.pub file) to UCloud.\n",
    "\n",
    "![](Image0.PNG)\n",
    "\n"
   ]
  },
  {
   "attachments": {},
   "cell_type": "markdown",
   "id": "56c07483",
   "metadata": {},
   "source": [
    "## Apply for a Public IP on UCloud\n",
    "\n",
    "A UCloud public IP is need to use Rsync. This can be obtained through a [UCloud grant application](https://github.com/CBS-HPC/.github/blob/main/profile/GrantApp.md) by filling out the field shown below:\n",
    "\n",
    "\n",
    "![](Image1.PNG)\n",
    "\n",
    "The application subsequently needs to be accepted by CBS front office personal."
   ]
  },
  {
   "attachments": {},
   "cell_type": "markdown",
   "id": "bbe47830",
   "metadata": {},
   "source": [
    "## Start Rsync Job and Configure Ports for Public IP'\n",
    "\n",
    "Fill out \"Job name\",\"Hours\", \"Machine type\".\n",
    "\n",
    "\n",
    "### Step 1: Select the \"Public IP\", \"SSH Public Key\" & \"Rsync Volume\" fields\n",
    "\n",
    "- \"Public IP\" - see steps below.\n",
    "- \"SHH Public Key\" - Select the .pub file you have just uploaded to UCloud.\n",
    "- \"Rsync Volume\" - Select the UCloud folder where the files/folders should be transferred to.\n",
    "\n",
    "![](Image2.PNG)\n",
    "\n",
    "### Step 2: If no Public IPs are activated press \"Create public ip\"\n",
    "![](Image3.PNG)\n",
    "\n",
    "### Step 3: Select the \"public-ip\" product\n",
    "![](Image4.PNG)\n",
    "\n",
    "### Step 4: press the \"3 dots button\" and select \"Properties\".\n",
    "![](Image5.PNG)\n",
    "\n",
    "### Step 5: Open the firewall for ports 22 and 873 as shown below: \n",
    "![](Image6.PNG)\n",
    "\n",
    "### Step 6: Select the configured Public IP\n",
    "![](Image7.PNG)\n",
    "\n",
    "### Step 7: Start the Job \n",
    "![](Image8.PNG)\n",
    "\n",
    "### Step 8: When the Job is ready the IP adress and the password is shown as below: \n",
    "![](Image9.PNG)"
   ]
  },
  {
   "attachments": {},
   "cell_type": "markdown",
   "id": "e96be666",
   "metadata": {},
   "source": [
    "## Open Terminal on local machine (For Windows)"
   ]
  },
  {
   "cell_type": "code",
   "execution_count": null,
   "id": "6cb55c2b",
   "metadata": {
    "vscode": {
     "languageId": "shellscript"
    }
   },
   "outputs": [],
   "source": [
    "# Activate Ubuntu \n",
    "wsl\n",
    "\n",
    "# Navigate to path contain the folder of files to transfer - Alternatively you can open terminal directly in the right directory to skip step below.\n",
    "cd \"path/of/folders-or-files\"\n",
    "\n",
    "\n",
    "# NO ENCRYPTION (NOT RECOMMENDED): Transfer the folder \"myfolder\" to work/myfolder on UCloud. No Public key should have been uploaded during Rsync Job configuration.\n",
    "\n",
    "rsync -avP ./myfolder rsync://ucloud@13x.2x5.1x4.13x:873/volume  # Exchange to the rigth IP adress\n",
    "\n",
    "\n",
    "# SSH ENCRYPTION: Transfer the folder \"myfolder\" to work/myfolder on UCloud. (USing SSH - encrypted)\n",
    "rsync -avP -e \"ssh -i ~/.ssh/id_rsa -p 22\"  ./myfolder/ ucloud@13x.2x5.1x4.13x:/work/myfolder2 \n",
    "\n",
    "# Change the following to the above line:\n",
    "# \"~/.ssh/id_rsa\"  : the path to private SSH key as specified through the Ubuntu terminal. The best way to ensure this is to open a Ubuntu terminal in the \".ssh\" folder\n",
    "# \"./myfolder/\"    : the folder folder/files you want to copy over.\n",
    "# \"13x.2x5.1x4.13x\": The IP adress\n",
    "# \"/work/myfolder\": the path to the Rsync volume.. in this case the folder \"myfolder\" was chosen.\n",
    "\n",
    "# Password will be prompted. Copy the password over from the Job \"info page\". The password will be hidden in the terminal. "
   ]
  },
  {
   "attachments": {},
   "cell_type": "markdown",
   "id": "96b61295",
   "metadata": {},
   "source": [
    "## Open UCloud job terminal (see button in figure above) and double check that the data transfer was successful."
   ]
  }
 ],
 "metadata": {
  "kernelspec": {
   "display_name": "R",
   "language": "R",
   "name": "ir"
  },
  "language_info": {
   "codemirror_mode": "r",
   "file_extension": ".r",
   "mimetype": "text/x-r-source",
   "name": "R",
   "pygments_lexer": "r",
   "version": "4.2.2"
  }
 },
 "nbformat": 4,
 "nbformat_minor": 5
}
