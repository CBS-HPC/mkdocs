{
 "cells": [
  {
   "attachments": {},
   "cell_type": "markdown",
   "id": "125fd174",
   "metadata": {},
   "source": [
    "# UCloud Tutorial: Using Conda for easy management of Python environments\n",
    "\n",
    "Introduction text\n",
    "\n",
    "https://docs.cloud.sdu.dk/hands-on/conda-setup.html?highlight=conda\n",
    "\n",
    "The Conda package and environment management system is already included in few applications available on UCloud (see, e.g., JupyerLab and PyTorch). For more general uses of Conda and its powerful package manager it is convenient to create a local installation and save it in a UCloud project.\n",
    "Conda is included in all versions of Anaconda and Miniconda. For example, to install the latest version of Miniconda, just start any interactive app on UCloud, such as Terminal, and run the following shell commands:"
   ]
  },
  {
   "attachments": {},
   "cell_type": "markdown",
   "id": "ec7b4deb",
   "metadata": {},
   "source": [
    "# Installing Conda on UCloud\n",
    "\n",
    "### Launch a \"Terminal App\" UCloud Job\n",
    "\n",
    "Run following commands in the terminal: "
   ]
  },
  {
   "cell_type": "code",
   "execution_count": null,
   "id": "e66d7259",
   "metadata": {
    "vscode": {
     "languageId": "shellscript"
    }
   },
   "outputs": [],
   "source": [
    "\n",
    "# Download miniconda \n",
    "curl -s -L -o /tmp/miniconda_installer.sh https://repo.anaconda.com/miniconda/Miniconda3-latest-Linux-x86_64.sh\n",
    "\n",
    "# Install miniconda\n",
    "bash /tmp/miniconda_installer.sh -b -f -p /work/miniconda3"
   ]
  },
  {
   "attachments": {},
   "cell_type": "markdown",
   "id": "304951d2",
   "metadata": {},
   "source": [
    "### When the job is finished copy the “miniconda3” folder from UCloud “Job” folder to a folder you want within your UCloud project.\n",
    "\n",
    "![](folder1.PNG \"folder1\")"
   ]
  },
  {
   "attachments": {},
   "cell_type": "markdown",
   "id": "56c07483",
   "metadata": {},
   "source": [
    "## Activating Conda in a new UCloud Job"
   ]
  },
  {
   "cell_type": "code",
   "execution_count": null,
   "id": "e709befd",
   "metadata": {
    "vscode": {
     "languageId": "shellscript"
    }
   },
   "outputs": [],
   "source": [
    "#Running a new UCloud run the following lines in the terminal to activate Conda:\n",
    "sudo ln -s /work/miniconda3/bin/conda /usr/bin/conda\n",
    "\n",
    "# Initiate Conda and reboot \n",
    "conda init && bash -i"
   ]
  },
  {
   "cell_type": "code",
   "execution_count": null,
   "id": "24f6b21b",
   "metadata": {
    "vscode": {
     "languageId": "shellscript"
    }
   },
   "outputs": [],
   "source": [
    "#Shows already installed environments:\n",
    "conda env list"
   ]
  },
  {
   "attachments": {},
   "cell_type": "markdown",
   "id": "bbe47830",
   "metadata": {},
   "source": [
    "### Installing and activate Python environments\n",
    "https://conda.io/projects/conda/en/latest/user-guide/tasks/manage-python.html "
   ]
  },
  {
   "cell_type": "code",
   "execution_count": null,
   "id": "6cb55c2b",
   "metadata": {
    "vscode": {
     "languageId": "shellscript"
    }
   },
   "outputs": [],
   "source": [
    "# Showing available python versions\n",
    "conda search python\n",
    "\n",
    "# Installing a Python environment (Python 3.9 in this example) \n",
    "conda create -n myenv python=3.9\n",
    "\n",
    "# Or install packages during installation.\n",
    "conda create -n myenv python=3.9 numpy=1.16\n",
    "\n",
    "# Shows already installed environments (R-4.2.3 show be displayed)\n",
    "conda env list\n",
    "\n",
    "# Activate environment\n",
    "conda activate myenv\n",
    "\n",
    "#Check which Python is in path\n",
    "which python\n",
    "\n",
    "#Output should be: \n",
    "/work/miniconda3/envs/myenv/bin/python"
   ]
  },
  {
   "attachments": {},
   "cell_type": "markdown",
   "id": "dba82dd9",
   "metadata": {},
   "source": [
    "### Install libraries and run python:"
   ]
  },
  {
   "cell_type": "code",
   "execution_count": null,
   "id": "ab4e6bd0",
   "metadata": {
    "vscode": {
     "languageId": "shellscript"
    }
   },
   "outputs": [],
   "source": [
    "# Install conda libraries:\n",
    "conda install scikit-learn\n",
    "\n",
    "# Install pip libraries:\n",
    "pip install --upgrade pip\n",
    "pip install pandas\n",
    "\n",
    "# Start Python:\n",
    "python"
   ]
  },
  {
   "attachments": {},
   "cell_type": "markdown",
   "id": "c159377f",
   "metadata": {},
   "source": [
    "# VScode on UCloud\n",
    "\n",
    "### Add the “miniconda3” folder when starting the new Coder python UCloud job. \n",
    "\n",
    "https://docs.cloud.sdu.dk/hands-on/conda-coder.html?highlight=coder\n",
    "\n",
    "In terminal add conda environment:"
   ]
  },
  {
   "cell_type": "code",
   "execution_count": null,
   "id": "1b624cd6",
   "metadata": {
    "vscode": {
     "languageId": "shellscript"
    }
   },
   "outputs": [],
   "source": [
    "# Running a new UCloud run the following lines in the terminal to activate Conda:\n",
    "sudo ln -s /work/miniconda3/bin/conda /usr/bin/conda\n",
    "\n",
    "# Init Conda:\n",
    "conda init && bash -i\n",
    "\n",
    "# Shows already installed environments:\n",
    "conda env list\n",
    "\n",
    "# Activate environment:\n",
    "conda activate myenv\n",
    "\n",
    "# Check which Python is in path:\n",
    "which python\n",
    "\n",
    "# Output should be: \n",
    "/work/miniconda3/envs/myenv/bin/python"
   ]
  },
  {
   "attachments": {},
   "cell_type": "markdown",
   "id": "ee3ccc1c",
   "metadata": {},
   "source": [
    "### Now you can launch VSCode interface and open file and activate “myenv” as python interpreter:\n",
    "\n",
    "Select the menu View -> Command Palette:\n",
    "\n",
    "![](vscode1.png \"vscod1\")\n",
    "\n",
    "Execute the command > Python: Select Intepreter:\n",
    "\n",
    "![](vscode2.png \"vscode2\")\n"
   ]
  },
  {
   "attachments": {},
   "cell_type": "markdown",
   "id": "d376b33c",
   "metadata": {},
   "source": [
    "# JupyterLab on UCloud\n",
    "\n",
    "### Add the “miniconda3” folder when starting the new JupyterLab UCloud job. \n",
    "\n",
    "In terminal add conda environment:"
   ]
  },
  {
   "cell_type": "code",
   "execution_count": null,
   "id": "85283553",
   "metadata": {
    "vscode": {
     "languageId": "shellscript"
    }
   },
   "outputs": [],
   "source": [
    "# Init conda:\n",
    "conda init && bash -i\n",
    "\n",
    "# JupyterLab app on UCloud is Conda based with a installation found on the following path: \n",
    "conda info --envs\n",
    "\n",
    "# Output should be: \n",
    "/opt/conda\n",
    "\n",
    "# Create symbolic link for R environment between the two conda installations: \n",
    "sudo ln -s /work/miniconda3/envs/myenv /opt/conda/envs\n",
    "\n",
    "# Shows already installed environments (Now “myenv” is available):\n",
    "conda env list\n",
    "\n",
    "# Activate environment:\n",
    "conda activate myenv"
   ]
  },
  {
   "cell_type": "code",
   "execution_count": null,
   "id": "5e61c8b7",
   "metadata": {
    "vscode": {
     "languageId": "shellscript"
    }
   },
   "outputs": [],
   "source": [
    "# Install ipykernel:\n",
    "\n",
    "conda install ipykernel\n",
    "\n",
    "# \n",
    "python -m ipykernel install --user --name myenv --display-name \"myenv\"\n",
    "\n",
    "# De-activate environment:\n",
    "conda deactivate"
   ]
  },
  {
   "attachments": {},
   "cell_type": "markdown",
   "id": "dd9bbb19",
   "metadata": {},
   "source": [
    "### Now you can launch JupyterLab interface and the “myenv” environment should be available on the frontpage.\n",
    "\n",
    "![](jupyterP.PNG \"jupyterP\")"
   ]
  },
  {
   "attachments": {},
   "cell_type": "markdown",
   "id": "b7a3827f",
   "metadata": {},
   "source": [
    "# Terminal app on UCloud\n",
    "\n",
    "### Add the “miniconda3” folder when starting the new Terminal App UCloud job. \n",
    "\n",
    "In terminal add conda environment:"
   ]
  },
  {
   "cell_type": "code",
   "execution_count": null,
   "id": "7d19e23f",
   "metadata": {
    "vscode": {
     "languageId": "shellscript"
    }
   },
   "outputs": [],
   "source": [
    "# Running a new UCloud run the following lines in the terminal to activate Conda:\n",
    "sudo ln -s /work/miniconda3/bin/conda /usr/bin/conda\n",
    "\n",
    "# Init Conda:\n",
    "conda init && bash -i\n",
    "\n",
    "# Shows already installed environments:\n",
    "conda env list\n",
    "\n",
    "# Activate environment:\n",
    "conda activate myenv\n",
    "\n",
    "# Check which Python is in path:\n",
    "which python\n",
    "\n",
    "# Output should be: \n",
    "/work/miniconda3/envs/myenv/bin/python"
   ]
  },
  {
   "attachments": {},
   "cell_type": "markdown",
   "id": "826e2bad",
   "metadata": {},
   "source": [
    "### Install libraries and run python:"
   ]
  },
  {
   "cell_type": "code",
   "execution_count": null,
   "id": "92ff0906",
   "metadata": {
    "vscode": {
     "languageId": "shellscript"
    }
   },
   "outputs": [],
   "source": [
    "# Install conda libraries:\n",
    "conda install scikit-learn\n",
    "\n",
    "# Install pip libraries:\n",
    "pip install --upgrade pip\n",
    "pip install pandas\n",
    "\n",
    "# Start Python:\n",
    "python"
   ]
  }
 ],
 "metadata": {
  "kernelspec": {
   "display_name": "R",
   "language": "R",
   "name": "ir"
  },
  "language_info": {
   "codemirror_mode": "r",
   "file_extension": ".r",
   "mimetype": "text/x-r-source",
   "name": "R",
   "pygments_lexer": "r",
   "version": "4.2.2"
  }
 },
 "nbformat": 4,
 "nbformat_minor": 5
}
