{
 "cells": [
  {
   "cell_type": "markdown",
   "id": "146078eb",
   "metadata": {},
   "source": [
    "# UCloud Tutorial: Using Conda for easy workflow deployment on AAU GPU VMs"
   ]
  },
  {
   "cell_type": "markdown",
   "id": "02af11a6",
   "metadata": {},
   "source": [
    "## Initial installation of Conda on a AAU VM job\n",
    "\n",
    "### Connect to VM using SSH\n",
    "\n",
    "Open a terminal app on local machine and SSH onto the VM:"
   ]
  },
  {
   "cell_type": "code",
   "execution_count": null,
   "id": "ec7b4deb",
   "metadata": {
    "vscode": {
     "languageId": "shellscript"
    }
   },
   "outputs": [],
   "source": [
    "ssh ucloud@IP_address_from_the_red_mark"
   ]
  },
  {
   "cell_type": "markdown",
   "id": "cc96308e",
   "metadata": {},
   "source": [
    "### Update VM"
   ]
  },
  {
   "cell_type": "code",
   "execution_count": null,
   "id": "893ef50e",
   "metadata": {
    "vscode": {
     "languageId": "shellscript"
    }
   },
   "outputs": [],
   "source": [
    "sudo apt update\n",
    "sudo apt upgrade -y \n",
    "sudo apt install nvidia-headless-460 nvidia-utils-460 -y"
   ]
  },
  {
   "cell_type": "markdown",
   "id": "9a0a4fce",
   "metadata": {},
   "source": [
    "### Download and Install Conda "
   ]
  },
  {
   "cell_type": "code",
   "execution_count": null,
   "id": "9de54fa2",
   "metadata": {
    "vscode": {
     "languageId": "shellscript"
    }
   },
   "outputs": [],
   "source": [
    "# Download miniconda \n",
    "curl -s -L -o miniconda_installer.sh https://repo.anaconda.com/miniconda/Miniconda3-latest-Linux-x86_64.sh \n",
    "\n",
    "# Install miniconda\n",
    "bash miniconda_installer.sh -b -f -p miniconda3\n",
    "\n",
    "# Set conda to path\n",
    "export PATH=/home/ucloud/miniconda3/bin:$PATH # Set conda to path\n",
    "\n",
    "# initialize conda\n",
    "conda init && bash -i\n",
    "\n",
    "# Reboot VM\n",
    "sudo reboot"
   ]
  },
  {
   "cell_type": "markdown",
   "id": "cde7003c",
   "metadata": {},
   "source": [
    "### Re-connect to VM using SSH "
   ]
  },
  {
   "cell_type": "code",
   "execution_count": null,
   "id": "bc34140d",
   "metadata": {
    "vscode": {
     "languageId": "shellscript"
    }
   },
   "outputs": [],
   "source": [
    "ssh ucloud@IP_address_from_the_red_mark"
   ]
  },
  {
   "cell_type": "markdown",
   "id": "618a940f",
   "metadata": {},
   "source": [
    "### Check nvidia driver Configuration"
   ]
  },
  {
   "cell_type": "code",
   "execution_count": null,
   "id": "09aa33cc",
   "metadata": {
    "vscode": {
     "languageId": "shellscript"
    }
   },
   "outputs": [],
   "source": [
    "\n",
    "nvidia-smi\n",
    "\n",
    "# Expected Output\n",
    "Mon Aug  7 09:38:25 2023\n",
    "+-----------------------------------------------------------------------------+\n",
    "| NVIDIA-SMI 470.199.02   Driver Version: 470.199.02   CUDA Version: 11.4     |\n",
    "|-------------------------------+----------------------+----------------------+\n",
    "| GPU  Name        Persistence-M| Bus-Id        Disp.A | Volatile Uncorr. ECC |\n",
    "| Fan  Temp  Perf  Pwr:Usage/Cap|         Memory-Usage | GPU-Util  Compute M. |\n",
    "|                               |                      |               MIG M. |\n",
    "|===============================+======================+======================|\n",
    "|   0  Tesla T4            Off  | 00000000:00:05.0 Off |                    0 |\n",
    "| N/A   70C    P0    31W /  70W |      0MiB / 15109MiB |      7%      Default |\n",
    "|                               |                      |                  N/A |\n",
    "+-------------------------------+----------------------+----------------------+\n",
    "\n",
    "+-----------------------------------------------------------------------------+\n",
    "| Processes:                                                                  |\n",
    "|  GPU   GI   CI        PID   Type   Process name                  GPU Memory |\n",
    "|        ID   ID                                                   Usage      |\n",
    "|=============================================================================|\n",
    "|  No running processes found                                                 |\n",
    "+-----------------------------------------------------------------------------+"
   ]
  },
  {
   "cell_type": "markdown",
   "id": "48acbfb3",
   "metadata": {},
   "source": [
    "### Create a Python-Conda environment and test GPU configuration"
   ]
  },
  {
   "cell_type": "code",
   "execution_count": null,
   "id": "129f32b6",
   "metadata": {
    "vscode": {
     "languageId": "shellscript"
    }
   },
   "outputs": [],
   "source": [
    "# Create conda environment \n",
    "conda deactivate\n",
    "conda create --name my_env python\n",
    "conda activate my_env\n",
    "\n",
    "# Install cudatoolkit and cudnn\n",
    "conda install -c conda-forge cudatoolkit=11.2 cudnn=8.1.0\n",
    "\n",
    "# Set pre-installed conda libraries to path (including cudatoolkit=11.2 cudnn=8.1.0 )\n",
    "export LD_LIBRARY_PATH=$LD_LIBRARY_PATH:$CONDA_PREFIX/lib/\n",
    "\n",
    "# install tensorflow\n",
    "pip install --upgrade pip; pip install tensorflow\n",
    "\n",
    "# test if tensorflow is probably configurated:\n",
    "python3 -c \"import tensorflow as tf; print(tf.config.list_physical_devices('GPU'))\"\n",
    "python3 -c \"import tensorflow as tf; print(tf.reduce_sum(tf.random.normal([1000, 1000])))\"\n",
    "# Expected Output\n",
    "2023-08-07 09:58:29.129577: I tensorflow/core/common_runtime/gpu/gpu_device.cc:1639] Created device /job:localhost/replica:0/task:0/device:GPU:0 with 13775 MB memory:  -> device: 0, name: Tesla T4, pci bus id: 0000:00:05.0, compute capability: 7.5\n",
    "tf.Tensor(-875.0791, shape=(), dtype=float32)"
   ]
  },
  {
   "cell_type": "markdown",
   "id": "09639337",
   "metadata": {},
   "source": [
    "#### GPU conda environment is ready to use\n",
    "\n",
    "### Compress Conda installation to tar.gz file"
   ]
  },
  {
   "cell_type": "code",
   "execution_count": null,
   "id": "6fe91cbf",
   "metadata": {
    "vscode": {
     "languageId": "shellscript"
    }
   },
   "outputs": [],
   "source": [
    "tar -czvf /home/ucloud/miniconda3.tar.gz /home/ucloud/miniconda3"
   ]
  },
  {
   "cell_type": "markdown",
   "id": "6b3e653d",
   "metadata": {},
   "source": [
    "### Transfer \"miniconda3.tar.gz\" to local PC using SSH-Copy\n",
    "\n",
    "Open a 2nd instance of a terminal app on local machine"
   ]
  },
  {
   "cell_type": "code",
   "execution_count": null,
   "id": "6e51053f",
   "metadata": {
    "vscode": {
     "languageId": "shellscript"
    }
   },
   "outputs": [],
   "source": [
    "scp -r ucloud@IP_address_from_the_red_mark:/home/ucloud/miniconda3 \"C:\\path-to-folder\""
   ]
  },
  {
   "cell_type": "markdown",
   "id": "095bbffd",
   "metadata": {},
   "source": [
    "## Transfer Conda install to a new AAU VM job"
   ]
  },
  {
   "cell_type": "markdown",
   "id": "1bcdec49",
   "metadata": {},
   "source": [
    "### Connect to VM using SSH\n",
    "\n",
    "Open a terminal app on local machine and SSH onto the VM:"
   ]
  },
  {
   "cell_type": "code",
   "execution_count": null,
   "id": "ebc805eb",
   "metadata": {
    "vscode": {
     "languageId": "shellscript"
    }
   },
   "outputs": [],
   "source": [
    "ssh ucloud@IP_address_from_the_red_mark"
   ]
  },
  {
   "cell_type": "markdown",
   "id": "673b1df8",
   "metadata": {},
   "source": [
    "### Update VM"
   ]
  },
  {
   "cell_type": "code",
   "execution_count": null,
   "id": "111bb304",
   "metadata": {
    "vscode": {
     "languageId": "shellscript"
    }
   },
   "outputs": [],
   "source": [
    "sudo apt update\n",
    "sudo apt upgrade -y \n",
    "sudo apt install nvidia-headless-460 nvidia-utils-460 -y"
   ]
  },
  {
   "cell_type": "markdown",
   "id": "6233ad11",
   "metadata": {},
   "source": [
    "### Transfer \"miniconda3.tar.gz\" from local PC to VM using SSH-Copy\n",
    "\n",
    "Open a 2nd instance of a terminal app on local machine"
   ]
  },
  {
   "cell_type": "code",
   "execution_count": null,
   "id": "0bd57418",
   "metadata": {
    "vscode": {
     "languageId": "shellscript"
    }
   },
   "outputs": [],
   "source": [
    "scp -r \"C:\\path-to-folder\\miniconda.tar.gz ucloud@IP_address_from_the_red_mark:"
   ]
  },
  {
   "cell_type": "markdown",
   "id": "41d39964",
   "metadata": {},
   "source": [
    "### Unzip tar.gz\n",
    "\n",
    "Move back to the terminal app connected to VM and run following command:"
   ]
  },
  {
   "cell_type": "code",
   "execution_count": null,
   "id": "b0b65fd7",
   "metadata": {
    "vscode": {
     "languageId": "shellscript"
    }
   },
   "outputs": [],
   "source": [
    "tar -xzf miniconda.tar.gz"
   ]
  },
  {
   "cell_type": "markdown",
   "id": "52f3921e",
   "metadata": {},
   "source": [
    "### Set Conda on path and initialise "
   ]
  },
  {
   "cell_type": "code",
   "execution_count": null,
   "id": "7b8048a2",
   "metadata": {
    "vscode": {
     "languageId": "shellscript"
    }
   },
   "outputs": [],
   "source": [
    "# Set conda to path\n",
    "export PATH=/home/ucloud/miniconda3/bin:$PATH # Set conda to path\n",
    "\n",
    "# init conda\n",
    "conda init && bash -i\n",
    "\n",
    "# Reboot VM\n",
    "sudo reboot"
   ]
  },
  {
   "cell_type": "markdown",
   "id": "de6c2e97",
   "metadata": {},
   "source": [
    "### Re-connect to VM using SSH "
   ]
  },
  {
   "cell_type": "code",
   "execution_count": null,
   "id": "deb7a3f4",
   "metadata": {
    "vscode": {
     "languageId": "shellscript"
    }
   },
   "outputs": [],
   "source": [
    "ssh ucloud@IP_address_from_the_red_mark"
   ]
  },
  {
   "cell_type": "markdown",
   "id": "facd5064",
   "metadata": {},
   "source": [
    "### Check nvidia driver configuration"
   ]
  },
  {
   "cell_type": "code",
   "execution_count": null,
   "id": "0c1d76ac",
   "metadata": {
    "vscode": {
     "languageId": "shellscript"
    }
   },
   "outputs": [],
   "source": [
    "nvidia-smi\n",
    "\n",
    "# Expected Output:\n",
    "Mon Aug  7 09:41:34 2023\n",
    "+-----------------------------------------------------------------------------+\n",
    "| NVIDIA-SMI 470.199.02   Driver Version: 470.199.02   CUDA Version: 11.4     |\n",
    "|-------------------------------+----------------------+----------------------+\n",
    "| GPU  Name        Persistence-M| Bus-Id        Disp.A | Volatile Uncorr. ECC |\n",
    "| Fan  Temp  Perf  Pwr:Usage/Cap|         Memory-Usage | GPU-Util  Compute M. |\n",
    "|                               |                      |               MIG M. |\n",
    "|===============================+======================+======================|\n",
    "|   0  Tesla T4            Off  | 00000000:00:05.0 Off |                    0 |\n",
    "| N/A   51C    P0    27W /  70W |      0MiB / 15109MiB |      0%      Default |\n",
    "|                               |                      |                  N/A |\n",
    "+-------------------------------+----------------------+----------------------+\n",
    "\n",
    "+-----------------------------------------------------------------------------+\n",
    "| Processes:                                                                  |\n",
    "|  GPU   GI   CI        PID   Type   Process name                  GPU Memory |\n",
    "|        ID   ID                                                   Usage      |\n",
    "|=============================================================================|\n",
    "|  No running processes found                                                 |\n",
    "+-----------------------------------------------------------------------------+"
   ]
  },
  {
   "cell_type": "markdown",
   "id": "543a36bf",
   "metadata": {},
   "source": [
    "### Activate conda environment and test GPU configuration"
   ]
  },
  {
   "cell_type": "code",
   "execution_count": null,
   "id": "02b5db77",
   "metadata": {
    "vscode": {
     "languageId": "shellscript"
    }
   },
   "outputs": [],
   "source": [
    "# Create conda environment \n",
    "conda deactivate\n",
    "conda create --name my_env python\n",
    "conda activate my_env\n",
    "\n",
    "# Install cudatoolkit and cudnn\n",
    "conda install -c conda-forge cudatoolkit=11.2 cudnn=8.1.0\n",
    "\n",
    "# Set pre-installed conda libraries to path (including cudatoolkit=11.2 cudnn=8.1.0 )\n",
    "export LD_LIBRARY_PATH=$LD_LIBRARY_PATH:$CONDA_PREFIX/lib/\n",
    "\n",
    "# install tensorflow\n",
    "pip install --upgrade pip; pip install tensorflow\n",
    "\n",
    "# test if tensorflow is probably configurated:\n",
    "python3 -c \"import tensorflow as tf; print(tf.config.list_physical_devices('GPU'))\"\n",
    "python3 -c \"import tensorflow as tf; print(tf.reduce_sum(tf.random.normal([1000, 1000])))\"\n",
    "\n",
    "# Expected Output\n",
    "2023-08-07 09:58:29.129577: I tensorflow/core/common_runtime/gpu/gpu_device.cc:1639] Created device /job:localhost/replica:0/task:0/device:GPU:0 with 13775 MB memory:  -> device: 0, name: Tesla T4, pci bus id: 0000:00:05.0, compute capability: 7.5\n",
    "tf.Tensor(-875.0791, shape=(), dtype=float32)"
   ]
  },
  {
   "cell_type": "markdown",
   "id": "150b356c",
   "metadata": {},
   "source": [
    "#### GPU conda environment is ready to use"
   ]
  }
 ],
 "metadata": {
  "kernelspec": {
   "display_name": "R",
   "language": "R",
   "name": "ir"
  },
  "language_info": {
   "codemirror_mode": "r",
   "file_extension": ".r",
   "mimetype": "text/x-r-source",
   "name": "R",
   "pygments_lexer": "r",
   "version": "4.2.2"
  }
 },
 "nbformat": 4,
 "nbformat_minor": 5
}
