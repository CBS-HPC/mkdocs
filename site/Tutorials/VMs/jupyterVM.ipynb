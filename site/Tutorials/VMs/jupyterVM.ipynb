{
 "cells": [
  {
   "cell_type": "markdown",
   "id": "8a4fb221",
   "metadata": {},
   "source": [
    "# UCloud Tutorial: Setting up an interactive jupyter notebook session on AAU VMs"
   ]
  },
  {
   "cell_type": "markdown",
   "id": "746b1824",
   "metadata": {},
   "source": [
    "### Connect to VM using SSH\n",
    "\n",
    "Open a terminal app on local machine and SSH onto the VM:"
   ]
  },
  {
   "cell_type": "code",
   "execution_count": null,
   "id": "0cc30832",
   "metadata": {
    "vscode": {
     "languageId": "shellscript"
    }
   },
   "outputs": [],
   "source": [
    "ssh ucloud@IP_address_from_the_red_mark"
   ]
  },
  {
   "cell_type": "markdown",
   "id": "88031c57",
   "metadata": {},
   "source": [
    "### Install jupyter if needed: "
   ]
  },
  {
   "cell_type": "code",
   "execution_count": null,
   "id": "67326f34",
   "metadata": {
    "vscode": {
     "languageId": "shellscript"
    }
   },
   "outputs": [],
   "source": [
    "# Using pip\n",
    "pip install jupyterlab\n",
    "\n",
    "# Using conda if conda environment are utilised \n",
    "conda install jupyter"
   ]
  },
  {
   "cell_type": "markdown",
   "id": "39a2747e",
   "metadata": {},
   "source": [
    "### Make sure jupyter is installed\n",
    "\n",
    "In this case jupyter is installed and activated through a conda environment. Please see "
   ]
  },
  {
   "cell_type": "code",
   "execution_count": null,
   "id": "b561e0cf",
   "metadata": {
    "vscode": {
     "languageId": "shellscript"
    }
   },
   "outputs": [],
   "source": [
    "which jupyter\n",
    "\n",
    "# Example Output:\n",
    "/home/ucloud/miniconda3/envs/my_env/bin/jupyter"
   ]
  },
  {
   "cell_type": "markdown",
   "id": "f3fada0b",
   "metadata": {},
   "source": [
    "### Start Jupyter Notebook from remote server"
   ]
  },
  {
   "cell_type": "code",
   "execution_count": null,
   "id": "22582d8d",
   "metadata": {
    "vscode": {
     "languageId": "shellscript"
    }
   },
   "outputs": [],
   "source": [
    "jupyter notebook --no-browser --port=8080\n",
    "\n",
    "# Output\n",
    "\n",
    "[I 10:26:32.873 NotebookApp] Serving notebooks from local directory: /home/ucloud\n",
    "[I 10:26:32.873 NotebookApp] The Jupyter Notebook is running at:\n",
    "[I 10:26:32.873 NotebookApp] http://localhost:8080/?token=b754cbea9f5a6640e647f21c7d2e7112a6954eb26f032d73\n",
    "[I 10:26:32.873 NotebookApp]  or http://127.0.0.1:8080/?token=b754cbea9f5a6640e647f21c7d2e7112a6954eb26f032d73\n",
    "[I 10:26:32.873 NotebookApp] Use Control-C to stop this server and shut down all kernels (twice to skip confirmation).\n",
    "[C 10:26:32.899 NotebookApp]\n",
    "\n",
    "    To access the notebook, open this file in a browser:\n",
    "        file:///home/ucloud/.local/share/jupyter/runtime/nbserver-3074-open.html\n",
    "    Or copy and paste one of these URLs:\n",
    "        http://localhost:8080/?token=b754cbea9f5a6640e647f21c7d2e7112a6954eb26f032d73\n",
    "     or http://127.0.0.1:8080/?token=b754cbea9f5a6640e647f21c7d2e7112a6954eb26f032d73\n"
   ]
  },
  {
   "cell_type": "markdown",
   "id": "a2726edc",
   "metadata": {},
   "source": [
    "### SSH connect to VM using a new terminal app on local machine\n",
    "\n",
    "Open a 2nd instance of Terminal on Local machine"
   ]
  },
  {
   "cell_type": "code",
   "execution_count": null,
   "id": "130d09b7",
   "metadata": {
    "vscode": {
     "languageId": "shellscript"
    }
   },
   "outputs": [],
   "source": [
    "ssh -L 8080:localhost:8080 ucloud@IP_address_from_the_red_mark"
   ]
  },
  {
   "cell_type": "markdown",
   "id": "34f506d8",
   "metadata": {},
   "source": [
    "### Now press the links in the output above and it should open a jupyter notebook"
   ]
  }
 ],
 "metadata": {
  "kernelspec": {
   "display_name": "R",
   "language": "R",
   "name": "ir"
  },
  "language_info": {
   "codemirror_mode": "r",
   "file_extension": ".r",
   "mimetype": "text/x-r-source",
   "name": "R",
   "pygments_lexer": "r",
   "version": "4.2.2"
  }
 },
 "nbformat": 4,
 "nbformat_minor": 5
}
