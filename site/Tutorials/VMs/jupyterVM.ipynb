{
 "cells": [
  {
   "cell_type": "markdown",
   "id": "8a4fb221",
   "metadata": {},
   "source": [
    "# Run Python and R jupyter notebooks on AAU VMs\n",
    "\n",
    "Prerequisite reading:\n",
    "\n",
    "- [How to Generate SSH key](/Tutorials/SHH/shh_create/)\n",
    "\n",
    "- [Access VM using SSH](/Tutorials/SSH/ssh_connect/)\n",
    "\n",
    "- [Conda: for easy workflow deployment on AAU GPU VMs](/Tutorials/VMs/condaVM/)"
   ]
  },
  {
   "cell_type": "markdown",
   "id": "746b1824",
   "metadata": {},
   "source": [
    "### Connect to VM using SSH\n",
    "\n",
    "Open a terminal app on local machine and SSH onto the VM:"
   ]
  },
  {
   "cell_type": "code",
   "execution_count": null,
   "id": "0cc30832",
   "metadata": {
    "vscode": {
     "languageId": "shellscript"
    }
   },
   "outputs": [],
   "source": [
    "ssh ucloud@IP_address_from_the_red_mark"
   ]
  },
  {
   "cell_type": "markdown",
   "id": "1106e989",
   "metadata": {},
   "source": [
    "## Install or activate Conda installation\n",
    "\n",
    "See [\"Conda: for easy workflow deployment on AAU GPU VMs\"](/Tutorials/VMs/condaVM/) for more information."
   ]
  },
  {
   "cell_type": "markdown",
   "id": "4035a58e",
   "metadata": {},
   "source": [
    "## Install and/or activate existing Python or R Environment using Conda"
   ]
  },
  {
   "cell_type": "code",
   "execution_count": null,
   "id": "d9f511c7",
   "metadata": {
    "vscode": {
     "languageId": "shellscript"
    }
   },
   "outputs": [],
   "source": [
    "# Python \n",
    "conda deactivate\n",
    "conda create --name myenv_python python\n",
    "conda activate myenv_python\n",
    "conda install ipykernel\n",
    "conda install nb_conda_kernels\n",
    "\n",
    "# R \n",
    "conda deactivate\n",
    "conda create --solver=libmamba -n myenv_R -y -c conda-forge r-base\n",
    "conda activate myenv_R\n",
    "conda install -c conda-forge r-irkernel\n",
    "conda install nb_conda_kernels\n",
    "\n",
    "# Install cudatoolkit and cudnn\n",
    "conda install -c conda-forge cudatoolkit cudnn\n",
    "\n",
    "# Set pre-installed conda libraries to path\n",
    "export LD_LIBRARY_PATH=$LD_LIBRARY_PATH:$CONDA_PREFIX/lib/"
   ]
  },
  {
   "cell_type": "markdown",
   "id": "77107db2",
   "metadata": {},
   "source": [
    "### Check jupyter installtion and get config-directory"
   ]
  },
  {
   "cell_type": "code",
   "execution_count": null,
   "id": "9f9dae2f",
   "metadata": {
    "vscode": {
     "languageId": "shellscript"
    }
   },
   "outputs": [],
   "source": [
    "which jupyter\n",
    "\n",
    "# Example Output:\n",
    "/home/ucloud/miniconda3/envs/my_env/bin/jupyter\n",
    "\n",
    "# Get config-directory\n",
    "jupyter --config-dir\n",
    "\n",
    "# Example Output:\n",
    "/home/ucloud/.jupyter/\n",
    "\n",
    "# Create folder if does not exist\n",
    " mkdir -p /home/ucloud/.jupyter/\n",
    "\n",
    "# Create jupyter_config.json  in config-dir\n",
    "echo '{\"CondaKernelSpecManager\": {\"kernelspec_path\": \"--user\"}}' > /home/ucloud/.jupyter/jupyter_config.json\n",
    "\n",
    "# Check content of jupyter_config.json\n",
    "\n",
    "cat /home/ucloud/.jupyter/jupyter_config.json"
   ]
  },
  {
   "cell_type": "markdown",
   "id": "88031c57",
   "metadata": {},
   "source": [
    "### Install nb_conda_kernels\n",
    "\n",
    "https://github.com/Anaconda-Platform/nb_conda_kernels#installation"
   ]
  },
  {
   "cell_type": "code",
   "execution_count": null,
   "id": "67326f34",
   "metadata": {
    "vscode": {
     "languageId": "shellscript"
    }
   },
   "outputs": [],
   "source": [
    "# Export all existing conda environment with ipykernel or r-irkernel installed\n",
    "python -m nb_conda_kernels list\n",
    "\n",
    "# Example Output: \n",
    "[ListKernelSpecs] WARNING | Config option `kernel_spec_manager_class` not recognized by `ListKernelSpecs`.\n",
    "[ListKernelSpecs] Removing existing kernelspec in /home/ucloud/.local/share/jupyter/kernels/conda-env-jupyter-py\n",
    "[ListKernelSpecs] Installed kernelspec conda-env-jupyter-py in /home/ucloud/.local/share/jupyter/kernels/conda-env-jupyter-py\n",
    "[ListKernelSpecs] Installed kernelspec conda-env-my_env-py in /home/ucloud/.local/share/jupyter/kernels/conda-env-my_env-py\n",
    "[ListKernelSpecs] Removing existing kernelspec in /home/ucloud/.local/share/jupyter/kernels/conda-env-myenv-py\n",
    "[ListKernelSpecs] Installed kernelspec conda-env-myenv-py in /home/ucloud/.local/share/jupyter/kernels/conda-env-myenv-py\n",
    "[ListKernelSpecs] Removing existing kernelspec in /home/ucloud/.local/share/jupyter/kernels/conda-env-rapids-py\n",
    "[ListKernelSpecs] Installed kernelspec conda-env-rapids-py in /home/ucloud/.local/share/jupyter/kernels/conda-env-rapids-py\n",
    "[ListKernelSpecs] [nb_conda_kernels] enabled, 4 kernels found\n",
    "Available kernels:\n",
    "  conda-env-jupyter-py    /home/ucloud/miniconda3/envs/jupyter/share/jupyter/kernels/python3\n",
    "  conda-env-myenv-py      /home/ucloud/miniconda3/envs/myenv/share/jupyter/kernels/python3\n",
    "  conda-env-rapids-py     /home/ucloud/miniconda3/envs/rapids/share/jupyter/kernels/python3\n",
    "  conda-env-my_env-py     /home/ucloud/miniconda3/envs/my_env/share/jupyter/kernels/python3"
   ]
  },
  {
   "cell_type": "markdown",
   "id": "39a2747e",
   "metadata": {},
   "source": [
    "### Check that the conda environment kernels are discovered by jupyter:"
   ]
  },
  {
   "cell_type": "code",
   "execution_count": null,
   "id": "b561e0cf",
   "metadata": {
    "vscode": {
     "languageId": "shellscript"
    }
   },
   "outputs": [],
   "source": [
    "jupyter kernelspec list\n",
    "\n",
    "# Example output:\n",
    "[ListKernelSpecs] WARNING | Config option `kernel_spec_manager_class` not recognized by `ListKernelSpecs`.\n",
    "0.00s - Debugger warning: It seems that frozen modules are being used, which may\n",
    "0.00s - make the debugger miss breakpoints. Please pass -Xfrozen_modules=off\n",
    "0.00s - to python to disable frozen modules.\n",
    "0.00s - Note: Debugging will proceed. Set PYDEVD_DISABLE_FILE_VALIDATION=1 to disable this validation.\n",
    "Available kernels:\n",
    "  python3                 /home/ucloud/miniconda3/envs/my_env/share/jupyter/kernels/python3\n",
    "  conda-env-jupyter-py    /home/ucloud/.local/share/jupyter/kernels/conda-env-jupyter-py\n",
    "  conda-env-my_env-py     /home/ucloud/.local/share/jupyter/kernels/conda-env-my_env-py\n",
    "  conda-env-myenv-py      /home/ucloud/.local/share/jupyter/kernels/conda-env-myenv-py\n",
    "  conda-env-rapids-py     /home/ucloud/.local/share/jupyter/kernels/conda-env-rapids-py"
   ]
  },
  {
   "cell_type": "markdown",
   "id": "f3fada0b",
   "metadata": {},
   "source": [
    "### Start Jupyter Notebook from remote server"
   ]
  },
  {
   "cell_type": "code",
   "execution_count": null,
   "id": "22582d8d",
   "metadata": {
    "vscode": {
     "languageId": "shellscript"
    }
   },
   "outputs": [],
   "source": [
    "jupyter notebook --no-browser --port=8080 # Change the port number if multiple jupyter notebook are started within the same session\n",
    "\n",
    "# Output\n",
    "\n",
    "[I 10:26:32.873 NotebookApp] Serving notebooks from local directory: /home/ucloud\n",
    "[I 10:26:32.873 NotebookApp] The Jupyter Notebook is running at:\n",
    "[I 10:26:32.873 NotebookApp] http://localhost:8080/?token=b754cbea9f5a6640e647f21c7d2e7112a6954eb26f032d73\n",
    "[I 10:26:32.873 NotebookApp]  or http://127.0.0.1:8080/?token=b754cbea9f5a6640e647f21c7d2e7112a6954eb26f032d73\n",
    "[I 10:26:32.873 NotebookApp] Use Control-C to stop this server and shut down all kernels (twice to skip confirmation).\n",
    "[C 10:26:32.899 NotebookApp]\n",
    "\n",
    "    To access the notebook, open this file in a browser:\n",
    "        file:///home/ucloud/.local/share/jupyter/runtime/nbserver-3074-open.html\n",
    "    Or copy and paste one of these URLs:\n",
    "        http://localhost:8080/?token=b754cbea9f5a6640e647f21c7d2e7112a6954eb26f032d73\n",
    "     or http://127.0.0.1:8080/?token=b754cbea9f5a6640e647f21c7d2e7112a6954eb26f032d73\n"
   ]
  },
  {
   "cell_type": "markdown",
   "id": "a2726edc",
   "metadata": {},
   "source": [
    "### SSH connect to VM using a new terminal app on local machine\n",
    "\n",
    "Open a 2nd instance of Terminal on Local machine"
   ]
  },
  {
   "cell_type": "code",
   "execution_count": null,
   "id": "130d09b7",
   "metadata": {
    "vscode": {
     "languageId": "shellscript"
    }
   },
   "outputs": [],
   "source": [
    "ssh -L 8080:localhost:8080 ucloud@IP_address_from_the_red_mark # Change the port number if multiple jupyter notebook are started within the same session"
   ]
  },
  {
   "cell_type": "markdown",
   "id": "34f506d8",
   "metadata": {},
   "source": [
    "### Open Jupyter Notebook\n",
    "\n",
    "Press the link in the output above and it should open a jupyter notebook\n",
    "\n",
    "Now the R and Python kernel should be available (see figure below)\n",
    "\n",
    "![](/Tutorials/VMs/kernel_choice.PNG \"kernel\")\n",
    "\n",
    "![](/Tutorials/VMs/kernel_choice2.PNG \"kernel\")"
   ]
  }
 ],
 "metadata": {
  "kernelspec": {
   "display_name": "R",
   "language": "R",
   "name": "ir"
  },
  "language_info": {
   "codemirror_mode": "r",
   "file_extension": ".r",
   "mimetype": "text/x-r-source",
   "name": "R",
   "pygments_lexer": "r",
   "version": "4.2.2"
  }
 },
 "nbformat": 4,
 "nbformat_minor": 5
}
