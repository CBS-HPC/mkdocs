{
 "cells": [
  {
   "attachments": {},
   "cell_type": "markdown",
   "metadata": {},
   "source": [
    "# UCloud Tutorial: Speed up your Numpy calculations\n",
    "\n"
   ]
  },
  {
   "attachments": {},
   "cell_type": "markdown",
   "metadata": {},
   "source": [
    "#  Jupyter notebook"
   ]
  },
  {
   "cell_type": "code",
   "execution_count": null,
   "metadata": {
    "vscode": {
     "languageId": "r"
    }
   },
   "outputs": [],
   "source": [
    "# Install MKL using conda\n",
    "conda install -c anaconda mkl\n",
    "\n",
    "# Install MKL using OpenBLAS\n",
    "conda install -c anaconda openblas"
   ]
  },
  {
   "attachments": {},
   "cell_type": "markdown",
   "metadata": {},
   "source": [
    "# Benchmarking the two versions\n",
    "\n",
    "**Benchmarking a simple matrix multiplication shows that the \"MKL\" is close 78 times faster than the \"LibBLAS\"!!**\n",
    "\n",
    "**MKL** mean = 7.63 milliseconds\n",
    "\n",
    "![](benchmark_1.PNG)\n",
    "\n",
    "**LiBLAS** mean = 592.666 milliseconds\n",
    "\n",
    "![](benchmark_2.PNG)\n"
   ]
  },
  {
   "cell_type": "code",
   "execution_count": null,
   "metadata": {
    "vscode": {
     "languageId": "r"
    }
   },
   "outputs": [],
   "source": [
    "library(microbenchmark)\n",
    "\n",
    "n <- 1000\n",
    "mat1 <- matrix(rnorm(n*n), ncol=n)\n",
    "mat2 <- matrix(rnorm(n*n), ncol=n)\n",
    "\n",
    "tic()\n",
    "f <- function() mat1 %*% mat2\n",
    "res <- microbenchmark(f(), times=100L)\n",
    "res"
   ]
  },
  {
   "attachments": {},
   "cell_type": "markdown",
   "metadata": {},
   "source": [
    "# Installing and Chaning BLAS & LAPACK Library\n",
    "\n",
    "Select between the available BLAS/LAPACK libraies by posting the command below i the job terminal. "
   ]
  },
  {
   "cell_type": "code",
   "execution_count": null,
   "metadata": {
    "vscode": {
     "languageId": "powershell"
    }
   },
   "outputs": [],
   "source": [
    "\n",
    "# BLAS Selection\n",
    "sudo update-alternatives --config libblas.so.3-x86_64-linux-gnu\n",
    "\n",
    "# LAPACK Selection\n",
    "sudo update-alternatives --config liblapack.so.3-x86_64-linux-gnu\n",
    "\n",
    "\n",
    "\n",
    "# BLAS Selection Output: \n",
    "There are 2 choices for the alternative libblas.so.3-x86_64-linux-gnu (providing /usr/lib/x86_64-linux-gnu/libblas.so.3).\n",
    "\n",
    "  Selection    Path                                                      Priority   Status\n",
    "------------------------------------------------------------\n",
    "* 0            /opt/intel/oneapi/mkl/2022.1.0/lib/intel64//libmkl_rt.so   50        auto mode\n",
    "  1            /opt/intel/oneapi/mkl/2022.1.0/lib/intel64//libmkl_rt.so   50        manual mode\n",
    "  2            /usr/lib/x86_64-linux-gnu/blas/libblas.so.3                10        manual mode\n",
    "\n",
    "Press <enter> to keep the current choice[*], or type selection number:"
   ]
  },
  {
   "attachments": {},
   "cell_type": "markdown",
   "metadata": {},
   "source": [
    "## Install other libraries.\n",
    "\n",
    "Changing the BLAS/LAPACK libraries is **not** possible for the \"MKL\" versions of the RStudio applications on UCloud. "
   ]
  },
  {
   "cell_type": "code",
   "execution_count": null,
   "metadata": {
    "vscode": {
     "languageId": "powershell"
    }
   },
   "outputs": [],
   "source": [
    "# Update\n",
    "sudo apt-get update\n",
    "# install OpenBLAS\n",
    "sudo apt-get install libopenblas-base\n",
    "# install ATLAS\n",
    "sudo apt-get install libatlas3-base liblapack3\n",
    "\n",
    "# BLAS Selection\n",
    "sudo update-alternatives --config libblas.so.3-x86_64-linux-gnu\n",
    "\n",
    "\n",
    "# BLAS Selection Output: \n",
    "There are 4 choices for the alternative libblas.so.3-x86_64-linux-gnu (providing /usr/lib/x86_64-linux-gnu/libblas.so.3).\n",
    "\n",
    "  Selection    Path                                                      Priority   Status\n",
    "------------------------------------------------------------\n",
    "* 0            /usr/lib/x86_64-linux-gnu/openblas-pthread/libblas.so.3    100       auto mode\n",
    "  1            /opt/intel/oneapi/mkl/2022.1.0/lib/intel64//libmkl_rt.so   50        manual mode\n",
    "  2            /usr/lib/x86_64-linux-gnu/atlas/libblas.so.3               35        manual mode\n",
    "  3            /usr/lib/x86_64-linux-gnu/blas/libblas.so.3                10        manual mode\n",
    "  4            /usr/lib/x86_64-linux-gnu/openblas-pthread/libblas.so.3    100       manual mode\n",
    "\n",
    "Press <enter> to keep the current choice[*], or type selection number: ^C"
   ]
  },
  {
   "attachments": {},
   "cell_type": "markdown",
   "metadata": {},
   "source": [
    "## Select an alternative library (Atlas libraries in this case)\n",
    "\n",
    "\n",
    "Open R and confirm the change of BLAS/LAPACK library using \"sessionInfo()\" function.\n",
    "\n",
    "![](sessionInfo_3.PNG)\n"
   ]
  }
 ],
 "metadata": {
  "kernelspec": {
   "display_name": "Python 3 (ipykernel)",
   "language": "python",
   "name": "python3"
  },
  "language_info": {
   "codemirror_mode": {
    "name": "ipython",
    "version": 3
   },
   "file_extension": ".py",
   "mimetype": "text/x-python",
   "name": "python",
   "nbconvert_exporter": "python",
   "pygments_lexer": "ipython3",
   "version": "3.9.16"
  }
 },
 "nbformat": 4,
 "nbformat_minor": 2
}
