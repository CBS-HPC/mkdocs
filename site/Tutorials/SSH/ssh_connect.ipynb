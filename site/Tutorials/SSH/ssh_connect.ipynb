{
 "cells": [
  {
   "attachments": {},
   "cell_type": "markdown",
   "id": "125fd174",
   "metadata": {},
   "source": [
    "## SSH to Server through local Terminal\n",
    "\n",
    "Add public SSH key while starting a VM job\n",
    "\n",
    "![](/Tutorials/SSH/startjob.png \"startjob\")\n",
    "\n",
    "\n",
    "Identify VM IP when UCloud job is ready.\n",
    "\n",
    "![](/Tutorials/SSH/jobready.png \"jobready\")"
   ]
  },
  {
   "cell_type": "markdown",
   "metadata": {},
   "source": [
    "## From Local Terminal connect to VM by:"
   ]
  },
  {
   "cell_type": "code",
   "execution_count": null,
   "id": "ec7b4deb",
   "metadata": {
    "vscode": {
     "languageId": "shellscript"
    }
   },
   "outputs": [],
   "source": [
    "ssh ucloud@IP_address_from_the_red_mark"
   ]
  },
  {
   "attachments": {},
   "cell_type": "markdown",
   "id": "095bbffd",
   "metadata": {},
   "source": [
    "## Transfer Files and Folders (SSH-Copy)"
   ]
  },
  {
   "attachments": {},
   "cell_type": "markdown",
   "id": "dc9984cd",
   "metadata": {},
   "source": [
    "### To VM\n",
    "\n",
    "Open a second terminal (1st terminal is connected to the VM):"
   ]
  },
  {
   "cell_type": "code",
   "execution_count": null,
   "id": "16b29cad",
   "metadata": {
    "vscode": {
     "languageId": "shellscript"
    }
   },
   "outputs": [],
   "source": [
    "scp -r \"C:\\path-to-folder-or-files\" ucloud@IP_address_from_the_red_mark:"
   ]
  },
  {
   "attachments": {},
   "cell_type": "markdown",
   "id": "0f244751",
   "metadata": {},
   "source": [
    "### From VM\n",
    "\n",
    "Open a second terminal (1st terminal is connected to the VM)"
   ]
  },
  {
   "cell_type": "code",
   "execution_count": null,
   "id": "256d5298",
   "metadata": {
    "vscode": {
     "languageId": "shellscript"
    }
   },
   "outputs": [],
   "source": [
    "scp -r ucloud@IP_address_from_the_red_mark:/home/ucloud/folder \"C:\\path-to-folder\""
   ]
  }
 ],
 "metadata": {
  "kernelspec": {
   "display_name": "R",
   "language": "R",
   "name": "ir"
  },
  "language_info": {
   "codemirror_mode": "r",
   "file_extension": ".r",
   "mimetype": "text/x-r-source",
   "name": "R",
   "pygments_lexer": "r",
   "version": "4.2.2"
  }
 },
 "nbformat": 4,
 "nbformat_minor": 5
}
