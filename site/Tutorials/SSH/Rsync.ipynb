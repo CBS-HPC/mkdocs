{
 "cells": [
  {
   "attachments": {},
   "cell_type": "markdown",
   "id": "125fd174",
   "metadata": {},
   "source": [
    "# UCloud Tutorial: Transfer large data to UCloud using Rsync\n",
    "\n",
    "Rsync, short for \"remote synchronization,\" is a powerful and widely used file synchronization and transfer utility. It enables efficient copying and updating of files between different locations, whether they are on the same system or across a network. Rsync is particularly valuable for managing large data sets or performing incremental backups.\n",
    "\n",
    "What sets Rsync apart is its ability to synchronize files by transferring only the differences between the source and destination files. This delta transfer mechanism greatly reduces the amount of data that needs to be transmitted, making Rsync highly efficient, even for large files or slow network connections.\n",
    "\n",
    "Rsync also offers several advanced features, such as compression, encryption, and the ability to preserve various file attributes, such as permissions, timestamps, and symbolic links. It supports both local file copying and remote transfers via SSH, allowing secure synchronization between different systems.\n",
    "\n",
    "With its flexibility, speed, and efficient use of network resources, Rsync has become a go-to tool for tasks like backup and mirroring, remote file distribution, and content deployment. It has a command-line interface, making it scriptable and suitable for both one-time transfers and automated, scheduled tasks.\n",
    "\n",
    "[UCloud documentation on Rsync](https://docs.cloud.sdu.dk/Apps/rsync.html)"
   ]
  },
  {
   "attachments": {},
   "cell_type": "markdown",
   "id": "ec7b4deb",
   "metadata": {},
   "source": [
    "# Installing Ubuntu on local machine (For Windows)\n",
    "\n",
    "Rsync is not natively available for Windows. However, you can install Rsync on Windows using a third-party implementation such as Cygwin or DeltaCopy. Alternatively, you can install Ubuntu on Windows which then comes whic includes Rsync.\n",
    "\n",
    "In this guide we will use Rsync through Ubuntu. For more infomation and video tutorials can be found [here](https://www.google.com/search?client=firefox-b-d&q=install+rsync+on+windows#fpstate=ive&vld=cid:da30000b,vid:qJN9mb8fjDM).\n"
   ]
  },
  {
   "attachments": {},
   "cell_type": "markdown",
   "id": "e27b5c1b",
   "metadata": {},
   "source": [
    "## Create a SSH-key within your Ubuntu environment\n",
    "\n",
    "Despite already having a shh-key (in your windows environment) the easiest will be to create a new SSH-key within your Ubuntu environment. Open a terminal and follow the few steps below.\n",
    "\n",
    "More information on how to generate a SSH key can be found [here](/Tutorials/SHH/shh_create/)\n"
   ]
  },
  {
   "cell_type": "code",
   "execution_count": null,
   "id": "b2a0fa57",
   "metadata": {
    "vscode": {
     "languageId": "shellscript"
    }
   },
   "outputs": [],
   "source": [
    "# Activate Ubuntu \n",
    "wsl\n",
    "\n",
    "# For linux only \n",
    "sudo apt install openssh-client\n",
    "\n",
    "# Create key\n",
    "ssh-keygen\n",
    "\n",
    "# Output: \n",
    "Generating public/private rsa key pair.\n",
    "Enter file in which to save the key (C:\\Users\\user/.ssh/id_rsa): # press enter\n",
    "Enter passphrase (empty for no passphrase):                         # press enter\n",
    "Enter same passphrase again:                                        # press enter\n",
    "Your identification has been saved in /home/user/.ssh/id_rsa.\n",
    "Your public key has been saved in /home/user/.ssh/id_rsa.pub.\n",
    "The key fingerprint is:\n",
    "SHA256:V4jnGjEIpUYU4tghvdfdkJj+hnd8t/E70SNGdsdepmX7E ggs\\use@CBSxxxx\n",
    "The key's randomart image is:\n",
    "+---[RSA 3072]----+\n",
    "|o o.=o....       |\n",
    "|+O++.o . .. .    |\n",
    "|=+=*o .. + o .   |\n",
    "|..oo.    = + .   |\n",
    "| ..o . .S = o o  |\n",
    "|  o . o .O o E   |\n",
    "|       o= . + .  |\n",
    "|   ..   .  = .   |\n",
    "|         .. o    |\n",
    "+----[SHA256]-----+\n",
    "\n"
   ]
  },
  {
   "attachments": {},
   "cell_type": "markdown",
   "id": "23bbf944",
   "metadata": {},
   "source": [
    "## Copy public SSH-key"
   ]
  },
  {
   "cell_type": "code",
   "execution_count": null,
   "id": "073bfc12",
   "metadata": {
    "vscode": {
     "languageId": "powershell"
    }
   },
   "outputs": [],
   "source": [
    "# Open Public Key\n",
    "vim /home/user/.ssh/id_rsa.pub\n",
    "\n",
    "# highlight public key with mouse and copy using \"ctrl+c\""
   ]
  },
  {
   "attachments": {},
   "cell_type": "markdown",
   "id": "b37707db",
   "metadata": {},
   "source": [
    "![](/Tutorials/Sync/Image1.PNG)\n",
    "\n",
    "## Add public SSH key to UCloud\n",
    "\n",
    "### Step 1: On UCloud go to \"Resources -> SHH-Keys -> Create SSH key\" \n",
    "\n",
    "![](/Tutorials/Sync/Image2.PNG)\n",
    "\n",
    "### Step 2: Paste pulic key, give a meaningful name and press \"Add SSH key\". \n",
    "\n",
    "![](/Tutorials/Sync/Image3.PNG)\n",
    "\n",
    "\n",
    "![](/Tutorials/Sync/Image4.PNG)\n",
    "\n",
    "\n",
    "More information can be found in the UCloud [documentation](https://docs.cloud.sdu.dk/Apps/general_settings.html#configure-ssh-access).\n"
   ]
  },
  {
   "attachments": {},
   "cell_type": "markdown",
   "id": "28f46127",
   "metadata": {},
   "source": [
    "## Start Rsync Job\n",
    "\n",
    "### Step 1: Start Rsync Job by filling out the necessary fields\n",
    "\n",
    "![](/Tutorials/Sync/Image5.PNG)\n",
    "\n",
    "### Step 2: When job ready please locate the SSH port which is randomly generated. In the cas below the SHH port is 2167.\n",
    "\n",
    "![](/Tutorials/Sync/Image6.PNG)"
   ]
  },
  {
   "attachments": {},
   "cell_type": "markdown",
   "id": "e96be666",
   "metadata": {},
   "source": [
    "## Connect from local machine using SSH.\n",
    "\n",
    "Open Terminal and follow steps below."
   ]
  },
  {
   "cell_type": "code",
   "execution_count": null,
   "id": "9d0975ec",
   "metadata": {
    "vscode": {
     "languageId": "powershell"
    }
   },
   "outputs": [],
   "source": [
    "# Activate Ubuntu (for Windows)\n",
    "wsl\n",
    "\n",
    "# SHH connect using the command marked with in the figure above.\n",
    "ssh ucloud@ssh.cloud.sdu.dk -p 2167\n"
   ]
  },
  {
   "attachments": {},
   "cell_type": "markdown",
   "id": "aeafd39e",
   "metadata": {},
   "source": [
    "If sucessfull you should get the output shown in the figure below.\n",
    "\n",
    "![](/Tutorials/Sync/Image7.PNG)"
   ]
  },
  {
   "attachments": {},
   "cell_type": "markdown",
   "metadata": {},
   "source": [
    "## Transfer data using Rsync"
   ]
  },
  {
   "cell_type": "code",
   "execution_count": null,
   "id": "6cb55c2b",
   "metadata": {
    "vscode": {
     "languageId": "shellscript"
    }
   },
   "outputs": [],
   "source": [
    "# Navigate to path contain the folder of files to transfer - Alternatively you can open terminal directly in the right directory to skip step below.\n",
    "cd \"path/of/folders-or-files\" \n",
    "\n",
    "# Activate Ubuntu (for Windows)\n",
    "wsl\n",
    "\n",
    "# SSH transfer \"myfolder\" to /work directory on UCloud \n",
    "\n",
    "rsync -avP -e \"ssh -i ~/.ssh/id_rsa -p 2167\" ./myfolder/ ucloud@ssh.cloud.sdu.dk:/work/myfolder "
   ]
  }
 ],
 "metadata": {
  "kernelspec": {
   "display_name": "R",
   "language": "R",
   "name": "ir"
  },
  "language_info": {
   "codemirror_mode": "r",
   "file_extension": ".r",
   "mimetype": "text/x-r-source",
   "name": "R",
   "pygments_lexer": "r",
   "version": "4.2.2"
  }
 },
 "nbformat": 4,
 "nbformat_minor": 5
}
