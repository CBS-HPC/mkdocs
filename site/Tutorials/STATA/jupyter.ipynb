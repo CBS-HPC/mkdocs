{
 "cells": [
  {
   "attachments": {},
   "cell_type": "markdown",
   "id": "125fd174",
   "metadata": {},
   "source": [
    "# Run Stata in jupyter-notebooks\n",
    "\n",
    "This is a guide shows how to setup \"pystata\" in order to run Stata in Python using jupyter notebooks.\n",
    "\n",
    "For more in depth decumnetation see [here](https://www.stata.com/python/pystata18/notebook/Quick%20Start0.html)\n",
    "\n",
    "\n",
    "Prerequisite reading:\n",
    "\n",
    "- [Install Stata on UCloud](/Tutorials/STATA/install/)"
   ]
  },
  {
   "attachments": {},
   "cell_type": "markdown",
   "id": "56c07483",
   "metadata": {},
   "source": [
    "## Start a Jupyter Job in UCloud\n",
    "\n",
    "Add the stata17 folder to the job\n",
    "\n",
    "![](/Tutorials/STATA/images/jupyter1.PNG)"
   ]
  },
  {
   "cell_type": "markdown",
   "id": "d1b180a1",
   "metadata": {},
   "source": [
    "# Activate Stata and install stata-setup\n",
    "\n",
    "Open the Terminal and run the code snippets below.\n",
    "\n",
    "![](/Tutorials/STATA/images/jupyter2.PNG)"
   ]
  },
  {
   "cell_type": "code",
   "execution_count": null,
   "id": "e709befd",
   "metadata": {
    "vscode": {
     "languageId": "shellscript"
    }
   },
   "outputs": [],
   "source": [
    "# Install dependencies\n",
    "sudo dpkg --add-architecture i386\n",
    "sudo apt-get update\n",
    "sudo apt-get install libncurses5 libncurses5:i386 -y\n",
    "\n",
    "# Set stata to Unix path\n",
    "export PATH=\"/work/stata17:$PATH\"\n",
    "\n",
    "# Check stata installation\n",
    "which stata\n",
    "\n",
    "# Example Output\n",
    "/work/stata17/stata # use later\n",
    "\n",
    "# Install stata-setup using pip\n",
    "pip install stata-setup\n",
    "\n",
    "# Install pystata using pip\n",
    "pip install pystata"
   ]
  },
  {
   "cell_type": "markdown",
   "id": "9d1dc0f0",
   "metadata": {},
   "source": [
    "\n",
    "# Run Stata in a Jupyter notebook\n",
    "\n",
    "## Start Jupyter interface\n",
    "![](/Tutorials/STATA/images/jupyter3.PNG)\n",
    "## Open a new python notebook\n",
    "![](/Tutorials/STATA/images/jupyter4.PNG)"
   ]
  },
  {
   "cell_type": "markdown",
   "id": "33f68a9e",
   "metadata": {},
   "source": [
    "\n",
    "## Configure the stata installation"
   ]
  },
  {
   "cell_type": "code",
   "execution_count": null,
   "id": "afc17a68",
   "metadata": {
    "vscode": {
     "languageId": "python"
    }
   },
   "outputs": [],
   "source": [
    "import stata_setup\n",
    "\n",
    "stata_setup.config(\"/work/stata17\", \"se\")\n",
    "\n",
    "# Output\n",
    "\n",
    "  ___  ____  ____  ____  ____ ®\n",
    " /__    /   ____/   /   ____/      17.0\n",
    "___/   /   /___/   /   /___/       SE—Standard Edition\n",
    "\n",
    " Statistics and Data Science       Copyright 1985-2021 StataCorp LLC\n",
    "                                   StataCorp\n",
    "                                   4905 Lakeway Drive\n",
    "                                   College Station, Texas 77845 USA\n",
    "                                   800-STATA-PC        https://www.stata.com\n",
    "                                   979-696-4600        stata@stata.com\n",
    "\n",
    "Stata license: Unlimited-user network, expiring 27 Dec 2023\n",
    "Serial number: 401709301397\n",
    "  Licensed to: Kristoffer Gulmark Poulsen\n",
    "               CBS Account\n",
    "\n",
    "Notes:\n",
    "      1. Unicode is supported; see help unicode_advice.\n",
    "      2. Maximum number of variables is set to 5,000; see help set_maxvar."
   ]
  },
  {
   "cell_type": "markdown",
   "id": "ea2e0e04",
   "metadata": {},
   "source": [
    "## Run your code using the stata magic (%%stata) the Configure the stata installation\n",
    "\n",
    "\"%%stata\" - cell magic is used to execute Stata code within a cell.\n",
    "\n",
    "\"%stata\" - line magic provides users a quick way to execute a single-line Stata command.\n",
    "\n",
    "Find more information on the stata magic [here](https://www.stata.com/python/pystata18/notebook/Quick%20Start0.html)."
   ]
  },
  {
   "cell_type": "code",
   "execution_count": null,
   "id": "daf37e8f",
   "metadata": {
    "vscode": {
     "languageId": "python"
    }
   },
   "outputs": [],
   "source": [
    "%%stata\n",
    "\n",
    "sysuse auto, clear\n",
    "\n",
    "summarize mpg\n",
    "\n",
    "# Output\n",
    ". \n",
    ". sysuse auto, clear\n",
    "(1978 automobile data)\n",
    "\n",
    ". \n",
    ". summarize mpg\n",
    "\n",
    "    Variable |        Obs        Mean    Std. dev.       Min        Max\n",
    "-------------+---------------------------------------------------------\n",
    "         mpg |         74     21.2973    5.785503         12         41\n",
    "\n",
    ". "
   ]
  },
  {
   "cell_type": "markdown",
   "id": "6ad34718",
   "metadata": {},
   "source": [
    "![](/Tutorials/STATA/images/jupyter5.PNG)"
   ]
  }
 ],
 "metadata": {
  "kernelspec": {
   "display_name": "R",
   "language": "R",
   "name": "ir"
  },
  "language_info": {
   "codemirror_mode": "r",
   "file_extension": ".r",
   "mimetype": "text/x-r-source",
   "name": "R",
   "pygments_lexer": "r",
   "version": "4.2.2"
  }
 },
 "nbformat": 4,
 "nbformat_minor": 5
}
