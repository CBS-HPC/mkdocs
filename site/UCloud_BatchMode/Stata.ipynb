{
 "cells": [
  {
   "attachments": {},
   "cell_type": "markdown",
   "id": "125fd174",
   "metadata": {},
   "source": [
    "# UCloud Tutorial: Run Stata in Batch Mode on UCloud\n",
    "\n",
    "This is an approach to adress the UCloud capacity issues. \n",
    "\n",
    "UCloud batch processing apps are scheduled to run as resources permit without end user interaction. It allows \n",
    "\n"
   ]
  },
  {
   "attachments": {},
   "cell_type": "markdown",
   "id": "fd157a5c",
   "metadata": {},
   "source": [
    "# Get Stata license and Installation file (CBS Users)\n",
    "\n",
    "Follow the instructions to get a Stata license at CBS https://studentcbs.sharepoint.com/sites/ITandCampus/SitePages/en/Free-software.aspx\n",
    "\n",
    "You will recieve an email with license and installation information (see image below).\n",
    "\n",
    "![img1](images/img1.PNG)\n",
    "\n",
    " Download the installation file (Stata17Linux64.tar) and upload this to your UCloud directory.\n",
    "\n",
    "![img2](images/img2.PNG)\n",
    "\n"
   ]
  },
  {
   "attachments": {},
   "cell_type": "markdown",
   "id": "ec7b4deb",
   "metadata": {},
   "source": [
    "# Installing Stata on UCloud\n",
    "\n",
    "### Launch a \"Terminal App\" UCloud Job and include the stata installation file (Stata17Linux64.tar)\n",
    "\n",
    "![img3](images/img3.PNG)\n",
    "\n",
    "Run following commands in the terminal: "
   ]
  },
  {
   "cell_type": "code",
   "execution_count": null,
   "id": "e66d7259",
   "metadata": {
    "vscode": {
     "languageId": "shellscript"
    }
   },
   "outputs": [],
   "source": [
    "\n",
    "# Install dependencies\n",
    "sudo dpkg --add-architecture i386\n",
    "sudo apt-get update\n",
    "sudo apt-get install libncurses5 libncurses5:i386 -y\n",
    "\n",
    "# Unzip installation file to temp folder\n",
    "sudo -s\n",
    "mkdir /tmp/statafiles\n",
    "cd /tmp/statafiles\n",
    "tar -zxf /work/install/Stata17Linux64.tar.gz\n",
    "\n",
    "# Install Stata on in \"/work/stata17\". Say yes when asked during installtion\n",
    "mkdir /work/stata17 \n",
    "cd /work/stata17 \n",
    "/tmp/statafiles/install\n",
    "\n",
    "# Set stata to Unix path\n",
    "export PATH=\"/work/stata17:$PATH\"\n",
    "\n",
    "# Initialize Stata\n",
    "sudo /work/stata17/stinit\n",
    "\n",
    "# Follow instructions and add \"Serial number\", \"Code\" and \"Authorization\" from the Stata license mail\n",
    "\n",
    "# Check stata installation\n",
    "which stata\n",
    "\n",
    "# Run stata\n",
    "stata \n",
    "# or\n",
    "stata-se\n",
    "# or\n",
    "stata-mp"
   ]
  },
  {
   "attachments": {},
   "cell_type": "markdown",
   "id": "304951d2",
   "metadata": {},
   "source": [
    "### End job and copy the “stata17” folder from UCloud “Job” folder to a folder you want within your UCloud directory.\n",
    "\n",
    "![img4](images/img4.PNG)"
   ]
  },
  {
   "attachments": {},
   "cell_type": "markdown",
   "id": "56c07483",
   "metadata": {},
   "source": [
    "## Activate Stata installation in a new terminal job\n",
    "\n",
    "Add the stata17 folder to the job\n",
    "\n",
    "![](startjob2.PNG)\n",
    "\n"
   ]
  },
  {
   "cell_type": "code",
   "execution_count": null,
   "id": "e709befd",
   "metadata": {
    "vscode": {
     "languageId": "shellscript"
    }
   },
   "outputs": [],
   "source": [
    "# Install dependencies\n",
    "sudo dpkg --add-architecture i386\n",
    "sudo apt-get update\n",
    "sudo apt-get install libncurses5 libncurses5:i386 -y\n",
    "\n",
    "# Set stata to Unix path\n",
    "export PATH=\"/work/stata17:$PATH\"\n",
    "\n",
    "# Check stata installation\n",
    "which stata\n",
    "\n",
    "# Run stata\n",
    "stata \n",
    "# or\n",
    "stata-se\n",
    "# or\n",
    "stata-mp"
   ]
  },
  {
   "attachments": {},
   "cell_type": "markdown",
   "id": "caa3a442",
   "metadata": {},
   "source": [
    "## Run Stata scrip in batch mode n a new terminal job\n",
    "\n",
    "Add the \"stata17\" and other relevant folder to the job:\n",
    "\n",
    "![img5](images/img5.PNG)\n",
    "\n",
    "Add a bash script(.sh) under \"Batch processing\" as one of the \"Optional Parameters\":\n",
    "\n",
    "![img6](images/img6.PNG)\n",
    "![img7](images/img7.PNG)\n"
   ]
  },
  {
   "attachments": {},
   "cell_type": "markdown",
   "id": "7f02b66b",
   "metadata": {},
   "source": [
    "Below shown bash script can be downloaded from [here](batchscript.sh). Use this as a template or [create your own bash script](https://www.howtogeek.com/261591/how-to-create-and-run-bash-shell-scripts-on-windows-10/).\n",
    "\n",
    "More information on how to run Stata in batch mode can be found here: https://www.stata.com/support/faqs/unix/batch-mode/\n",
    "\n"
   ]
  },
  {
   "cell_type": "code",
   "execution_count": null,
   "id": "0d77e997",
   "metadata": {
    "vscode": {
     "languageId": "shellscript"
    }
   },
   "outputs": [],
   "source": [
    "#!/bin/bash\n",
    "\n",
    "\n",
    "# Installing dependencies\n",
    "sudo dpkg --add-architecture i386\n",
    "sudo apt-get update\n",
    "sudo apt-get install libncurses5 libncurses5:i386 -y\n",
    "\n",
    "# Set stata17 on UNIX path\n",
    "export PATH=\"/work/stata17:$PATH\"\n",
    "\n",
    "# Run stata in Batch mode\n",
    "stata -b do filename & # USER SHOULD CHANGE THIS LINE (SEE LINK Above)\n"
   ]
  }
 ],
 "metadata": {
  "kernelspec": {
   "display_name": "R",
   "language": "R",
   "name": "ir"
  },
  "language_info": {
   "codemirror_mode": "r",
   "file_extension": ".r",
   "mimetype": "text/x-r-source",
   "name": "R",
   "pygments_lexer": "r",
   "version": "4.2.2"
  }
 },
 "nbformat": 4,
 "nbformat_minor": 5
}
