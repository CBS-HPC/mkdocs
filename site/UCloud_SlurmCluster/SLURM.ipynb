{
 "cells": [
  {
   "attachments": {},
   "cell_type": "markdown",
   "id": "125fd174",
   "metadata": {},
   "source": [
    "# UCloud Tutorial: Run Multi-node SLURM Cluster on UCloud"
   ]
  },
  {
   "attachments": {},
   "cell_type": "markdown",
   "id": "ec7b4deb",
   "metadata": {},
   "source": [
    "## Launch a \"Terminal App\" UCloud Job\n",
    "\n",
    "In addition to the normal setting fill out the following options (See figure below).\n",
    "\n",
    "In this example launched as cluster consisting of 3 nodes with three folder added to the launch:\n",
    "\n",
    "- **\"miniconda3\"**  - contains the conda environment I want to deploy across the different nodes.\n",
    "- **\"SLURM_deployment\"** - contains the easy-to-use deployment scripts provided in this tutorial. \n",
    "- **\"SLURM_scripts\"** - contains the user specific script and data to run on the cluster.\n",
    "\n",
    "In this example Conda is used for package and evironment management. Check here for more information on [Conda on UCloud]().\n",
    "\n",
    "\n",
    "![](images/SLURM1.PNG)\n",
    "\n",
    "\n",
    "### When the job has started open Terminal for Node 1 \n",
    "\n",
    "![](images/SLURM2.PNG)\n",
    "\n",
    "Run following commands in the terminal: "
   ]
  },
  {
   "cell_type": "code",
   "execution_count": null,
   "id": "e66d7259",
   "metadata": {
    "vscode": {
     "languageId": "shellscript"
    }
   },
   "outputs": [],
   "source": [
    "\n",
    "# activate SLURM Cluster if not activated in the step above\n",
    "init_slurm_cluster\n",
    "\n",
    "# List Avaliable nodes\n",
    "sinfo -N -l\n"
   ]
  },
  {
   "attachments": {},
   "cell_type": "markdown",
   "id": "304951d2",
   "metadata": {},
   "source": [
    "The controller node is always the first node. Called \"node0\" in within SLURM but called \"Node 1\" in the UCloud interface). All additional nodes are named sequentially. For example, a cluster consisting of three full u1-standard nodes is configured as follows:"
   ]
  },
  {
   "cell_type": "code",
   "execution_count": null,
   "id": "5642d0fa",
   "metadata": {
    "vscode": {
     "languageId": "shellscript"
    }
   },
   "outputs": [],
   "source": [
    "NODELIST   NODES PARTITION     STATE CPUS   S:C:T MEMORY\n",
    "node0         1     CLOUD*     idle   64   1:64:1 385024\n",
    "node1         1     CLOUD*     idle   64   1:64:1 385024\n",
    "node2         1     CLOUD*     idle   64   1:64:1 385024"
   ]
  },
  {
   "attachments": {},
   "cell_type": "markdown",
   "id": "550046f3",
   "metadata": {},
   "source": [
    "But called Node 1, Node 2 and Node 3 in the UCloud interface."
   ]
  },
  {
   "attachments": {},
   "cell_type": "markdown",
   "id": "56c07483",
   "metadata": {},
   "source": [
    "## Acitvate Conda Environment \n",
    "\n",
    "In terminal add conda environment:"
   ]
  },
  {
   "cell_type": "code",
   "execution_count": null,
   "id": "7d19e23f",
   "metadata": {
    "vscode": {
     "languageId": "shellscript"
    }
   },
   "outputs": [],
   "source": [
    "# Running a new UCloud run the following lines in the terminal to activate Conda:\n",
    "sudo ln -s /work/miniconda3/bin/conda /usr/bin/conda\n",
    "\n",
    "# Init Conda:\n",
    "conda init && bash -i\n",
    "\n",
    "# Shows already installed environments:\n",
    "conda env list\n",
    "\n",
    "# Activate environment:\n",
    "conda activate myenv\n",
    "\n",
    "# Check which environment is in path (e.g. X = python,R..)\n",
    "which X # (e.g. X = python,R..)\n",
    "\n",
    "# Output should be: \n",
    "/work/miniconda3/envs/myenv/bin/X # (e.g. X = python,R..)\n"
   ]
  },
  {
   "attachments": {},
   "cell_type": "markdown",
   "id": "41680a49",
   "metadata": {},
   "source": [
    "## SLURM deployment scripts\n",
    "\n",
    "The SLURM deployment script (\"slurm-launch.py\") have been adopted from  [Ray documentation](https://docs.ray.io/en/latest/cluster/vms/user-guides/community/slurm.html#python-interface-slurm-scripts) to support the addition of other python libraries (Dask, ipyparallel) and other languages (e.g. R).\n",
    "\n",
    "### slurm-launch.py\n",
    "\n",
    "\"slurm-launch.py\" auto-generates SLURM scripts and launch. slurm-launch.py uses an underlying template (e.g. \"slurm-template_ray.sh\" or \"slurm-template_dask.sh\") and fills out placeholders given user input."
   ]
  },
  {
   "cell_type": "code",
   "execution_count": null,
   "id": "db7b9bfe",
   "metadata": {
    "vscode": {
     "languageId": "shellscript"
    }
   },
   "outputs": [],
   "source": [
    "\n",
    "# Change path:\n",
    "cd /work/SLURM_deployment\n",
    "\n",
    "# Python with Ray\n",
    "python slurm-launch.py --script slurm-template_ray.sh --exp-name SlurmTest --command \"python /work/SLURM_scripts/SklearnRay.py\" --num-nodes 3\n",
    "\n",
    "# Python with Dask\n",
    "python slurm-launch.py --script slurm-template_dask.sh --exp-name SlurmTest --command \"python /work/SLURM_scripts/SklearnDask.py\" --num-nodes 3 --nprocs 8 --nthreads 1\n",
    "\n",
    "# R with doParallel\n",
    "python slurm-launch.py --script slurm-template_R.sh --exp-name SlurmTest --command \"Rscript --vanilla /work/SLURM_scripts/doParallel.r\" --num-nodes 3 --nprocs 8 --nthreads 1 \n",
    "\n",
    "\n",
    "# Example of Output\n",
    "Starting to submit job!\n",
    "Job submitted! Script file is at: <SlurmTest_0425-1208.sh>. Log file is at: <SlurmTest_0425-1208.log>\n",
    "Submitted batch job 2\n"
   ]
  },
  {
   "attachments": {},
   "cell_type": "markdown",
   "id": "d8559e75",
   "metadata": {},
   "source": [
    "### Addditionel options"
   ]
  },
  {
   "cell_type": "code",
   "execution_count": null,
   "id": "cb973d4c",
   "metadata": {
    "vscode": {
     "languageId": "shellscript"
    }
   },
   "outputs": [],
   "source": [
    "\n",
    "--exp-name          # The experiment name. Will generate {exp-name}_{date}-{time}.sh and {exp-name}_{date}-{time}.log.\n",
    "--command           # The command you wish to run. For example: rllib train XXX or python XXX.py.\n",
    "--node (-w)         # The specific nodes you wish to use, in the same form as the output of sinfo. Nodes are automatically assigned if not specified.\n",
    "--num-nodes (-n)    # The number of nodes you wish to use. Default: 1.\n",
    "--partition (-p):   # The partition you wish to use. Default: “”, will use user’s default partition.\n",
    "--load-env:         # The command to setup your environment. For example: module load cuda/10.1. Default: “”.\n",
    "--nprocs: \n",
    "--nthreads:\n",
    "\n"
   ]
  },
  {
   "attachments": {},
   "cell_type": "markdown",
   "id": "0e1879fa",
   "metadata": {},
   "source": [
    "### Open extra terminal for the three nodes \n",
    "![](images/SLURM3.PNG)\n",
    "\n",
    "### Run \"top\" command is used to show the Linux processes.\n",
    "![](images/SLURM4.PNG)\n",
    "\n",
    "### Observed that the work is distibuted across all three nodes. \n",
    "This may look different for different frameworks (e.g. Ray, Dask, R). It should be noted that in this example on 8 core nodes were used. Full nodes (64 cores) will generate alot more processes.\n",
    "\n",
    "![](images/SLURM5.PNG)"
   ]
  }
 ],
 "metadata": {
  "kernelspec": {
   "display_name": "R",
   "language": "R",
   "name": "ir"
  },
  "language_info": {
   "codemirror_mode": "r",
   "file_extension": ".r",
   "mimetype": "text/x-r-source",
   "name": "R",
   "pygments_lexer": "r",
   "version": "4.2.2"
  }
 },
 "nbformat": 4,
 "nbformat_minor": 5
}
