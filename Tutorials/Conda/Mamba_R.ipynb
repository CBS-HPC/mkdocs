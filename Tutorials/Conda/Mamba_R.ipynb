{
 "cells": [
  {
   "attachments": {},
   "cell_type": "markdown",
   "id": "125fd174",
   "metadata": {},
   "source": [
    "# UCloud Tutorial: Using Conda for easy management of R environments\n",
    "\n",
    "https://docs.cloud.sdu.dk/hands-on/conda-setup.html?highlight=conda\n",
    "\n",
    "The Conda package and environment management system is already included in few applications available on UCloud (see, e.g., JupyerLab and PyTorch). For more general uses of Conda and its powerful package manager it is convenient to create a local installation and save it in a UCloud project.\n",
    "Conda is included in all versions of Anaconda and Miniconda. For example, to install the latest version of Miniconda, just start any interactive app on UCloud, such as Terminal, and run the following shell commands:"
   ]
  },
  {
   "attachments": {},
   "cell_type": "markdown",
   "id": "ec7b4deb",
   "metadata": {},
   "source": [
    "# Installing Conda on UCloud\n",
    "\n",
    "### Launch a \"Terminal App\" UCloud Job\n",
    "\n",
    "Run following commands in the terminal: "
   ]
  },
  {
   "cell_type": "code",
   "execution_count": null,
   "id": "e66d7259",
   "metadata": {
    "vscode": {
     "languageId": "shellscript"
    }
   },
   "outputs": [],
   "source": [
    "\n",
    "# Download miniconda \n",
    "curl -s -L -o /tmp/miniconda_installer.sh https://repo.anaconda.com/miniconda/Miniconda3-latest-Linux-x86_64.sh\n",
    "\n",
    "# Install miniconda\n",
    "bash /tmp/miniconda_installer.sh -b -f -p /work/miniconda3"
   ]
  },
  {
   "attachments": {},
   "cell_type": "markdown",
   "id": "304951d2",
   "metadata": {},
   "source": [
    "### When the job is finished copy the “miniconda3” folder from UCloud “Job” folder to a folder you want within your UCloud project.\n",
    "\n",
    "![](/Tutorials/Conda/folder1.PNG \"folder1\")"
   ]
  },
  {
   "attachments": {},
   "cell_type": "markdown",
   "id": "56c07483",
   "metadata": {},
   "source": [
    "## Activating Conda in a new UCloud Job"
   ]
  },
  {
   "cell_type": "code",
   "execution_count": null,
   "id": "e709befd",
   "metadata": {
    "vscode": {
     "languageId": "shellscript"
    }
   },
   "outputs": [],
   "source": [
    "#Running a new UCloud run the following lines in the terminal to activate Conda:\n",
    "sudo ln -s /work/miniconda3/bin/conda /usr/bin/conda\n",
    "\n",
    "# Initiate Conda and reboot \n",
    "conda init && bash -i"
   ]
  },
  {
   "cell_type": "code",
   "execution_count": null,
   "id": "24f6b21b",
   "metadata": {
    "vscode": {
     "languageId": "shellscript"
    }
   },
   "outputs": [],
   "source": [
    "#Shows already installed environments:\n",
    "conda env list"
   ]
  },
  {
   "attachments": {},
   "cell_type": "markdown",
   "id": "bbe47830",
   "metadata": {},
   "source": [
    "### Installing and activate R environment with mamba\n",
    "\n",
    "Managing R environment using Conda is facilitated by a add-in library “mamba” (https://astrobiomike.github.io/unix/conda-intro#bonus-mamba-no-5).\n",
    "\n",
    "https://astrobiomike.github.io/R/managing-r-and-rstudio-with-conda\n"
   ]
  },
  {
   "cell_type": "code",
   "execution_count": null,
   "id": "6cb55c2b",
   "metadata": {
    "vscode": {
     "languageId": "shellscript"
    }
   },
   "outputs": [],
   "source": [
    "#Installing a R environment (R-4.2.3 in this example) \n",
    "conda create --solver=libmamba -n myenv -y -c conda-forge r-base=4.2.3\n",
    "\n",
    "#Or install packages during installation.\n",
    "conda create --solver=libmamba -n myenv -y -c conda-forge r-base=4.2.3 r-tidyverse\n",
    "\n",
    "#Shows already installed environments (\"myenv\" should be displayed)\n",
    "conda env list\n",
    "\n",
    "#Activate environment\n",
    "conda activate myenv\n",
    "\n",
    "#Check which R is in path\n",
    "which R\n",
    "\n",
    "#Output should be: \n",
    "/work/miniconda3/envs/myenv/bin/R"
   ]
  },
  {
   "attachments": {},
   "cell_type": "markdown",
   "id": "dba82dd9",
   "metadata": {},
   "source": [
    "### Start R and run code or install packages:"
   ]
  },
  {
   "cell_type": "code",
   "execution_count": null,
   "id": "ab4e6bd0",
   "metadata": {
    "vscode": {
     "languageId": "r"
    }
   },
   "outputs": [],
   "source": [
    "# Start R:\n",
    "R\n",
    "\n",
    "# Install a package\n",
    "install.packages(“tidymodels”)\n",
    "\n",
    "# Close R:\n",
    "quit()"
   ]
  },
  {
   "attachments": {},
   "cell_type": "markdown",
   "id": "c159377f",
   "metadata": {},
   "source": [
    "# R Studio on UCloud\n",
    "\n",
    "### Add the “miniconda3” folder when starting the new Rstudio UCloud job. \n",
    "\n",
    "Make sure that Rstudio UCloud job is based on the save R version ad the installed Conda R environment (“myenv”).\n",
    "\n",
    "Navigate to the R console: \n",
    "\n",
    "![](/Tutorials/Conda/rconsole.PNG \"rconsole\")\n"
   ]
  },
  {
   "cell_type": "code",
   "execution_count": null,
   "id": "1b624cd6",
   "metadata": {
    "vscode": {
     "languageId": "r"
    }
   },
   "outputs": [],
   "source": [
    "# Setting \"myenv\" library into library path of the active R kernel \n",
    ".libPaths(\"/work/miniconda3/envs/myenv/lib/R/library\")\n",
    "\n",
    "# Check if right path is set: \n",
    ".libPaths()\n",
    "\n",
    "# Now \"myenv\" packages are available and new packages can be installed:\n",
    "install.packages(\"googlesheets4\")"
   ]
  },
  {
   "attachments": {},
   "cell_type": "markdown",
   "id": "493765d1",
   "metadata": {},
   "source": [
    "### Be attentive that some dependencies may be pre-installed in the “R studio” UCloud job which may be missing when loading this packages in another UCloud app (e.g. Terminal or JupyterLab app)."
   ]
  },
  {
   "attachments": {},
   "cell_type": "markdown",
   "id": "d376b33c",
   "metadata": {},
   "source": [
    "# JupyterLab on UCloud\n",
    "\n",
    "### Add the “miniconda3” folder when starting the new JupyterLab UCloud job.\n",
    "\n",
    "In terminal add conda environment:"
   ]
  },
  {
   "cell_type": "code",
   "execution_count": null,
   "id": "85283553",
   "metadata": {
    "vscode": {
     "languageId": "shellscript"
    }
   },
   "outputs": [],
   "source": [
    "# Init conda:\n",
    "conda init && bash -i\n",
    "\n",
    "# JupyterLab app on UCloud is Conda based with a installation found on the following path: \n",
    "conda info –-envs\n",
    "\n",
    "# Output should be: \n",
    "/opt/conda\n",
    "\n",
    "# Create symbolic link for R environment between the two conda installations: \n",
    "sudo ln -s /work/miniconda3/envs/myenv /opt/conda/envs\n",
    "\n",
    "# Shows already installed environments (Now “myenv” is available):\n",
    "conda env list\n",
    "\n",
    "# Activate environment:\n",
    "conda activate myenv\n",
    "\n",
    "# Install iRkernel:\n",
    "conda install -c conda-forge r-irkernel\n",
    "\n",
    "# Activate R Kernel in Jupter\n",
    "R -e \"IRkernel::installspec(name = 'myenv', displayname = 'myenv')\"\n",
    "\n",
    "# De-activate environment:\n",
    "conda deactivate"
   ]
  },
  {
   "attachments": {},
   "cell_type": "markdown",
   "id": "dd9bbb19",
   "metadata": {},
   "source": [
    "### Now you can launch JupyterLab interface and the “myenv” environment should be available on the frontpage.\n",
    "\n",
    "![](/Tutorials/Conda/jupyterR.PNG \"jupyterR\")"
   ]
  },
  {
   "attachments": {},
   "cell_type": "markdown",
   "id": "b7a3827f",
   "metadata": {},
   "source": [
    "# Terminal app on UCloud\n",
    "\n",
    "### Add the “miniconda3” folder when starting the new Terminal App UCloud job."
   ]
  },
  {
   "cell_type": "code",
   "execution_count": null,
   "id": "7d19e23f",
   "metadata": {
    "vscode": {
     "languageId": "shellscript"
    }
   },
   "outputs": [],
   "source": [
    "# Running a new UCloud run the following lines in the terminal to activate Conda:\n",
    "sudo ln -s /work/miniconda3/bin/conda /usr/bin/conda\n",
    "\n",
    "# Init Conda:\n",
    "conda init && bash -i\n",
    "\n",
    "# Shows already installed environments:\n",
    "conda env list\n",
    "\n",
    "# Activate environment:\n",
    "conda activate myenv\n",
    "\n",
    "# Check which R is in path:\n",
    "which R\n",
    "\n",
    "# Output should be: \n",
    "/work/miniconda3/envs/myenv/bin/R\n"
   ]
  },
  {
   "cell_type": "code",
   "execution_count": null,
   "id": "92ff0906",
   "metadata": {
    "vscode": {
     "languageId": "r"
    }
   },
   "outputs": [],
   "source": [
    "# Start R and run code or install packages:\n",
    "R install.packages(“tidymodels”)\n"
   ]
  }
 ],
 "metadata": {
  "kernelspec": {
   "display_name": "R",
   "language": "R",
   "name": "ir"
  },
  "language_info": {
   "codemirror_mode": "r",
   "file_extension": ".r",
   "mimetype": "text/x-r-source",
   "name": "R",
   "pygments_lexer": "r",
   "version": "4.2.2"
  }
 },
 "nbformat": 4,
 "nbformat_minor": 5
}
