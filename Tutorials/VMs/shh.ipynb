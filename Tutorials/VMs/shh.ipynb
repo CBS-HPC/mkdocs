{
 "cells": [
  {
   "attachments": {},
   "cell_type": "markdown",
   "id": "125fd174",
   "metadata": {},
   "source": [
    "# How to Generate a SSH key\n",
    "\n",
    "In order to access the VM it is necessary to create Secure Shell Protocol (SSH) keys more specifically a public key (shareable part) and a private key (kept safe locally)."
   ]
  },
  {
   "attachments": {},
   "cell_type": "markdown",
   "id": "ec7b4deb",
   "metadata": {},
   "source": [
    "## On Windows & Linux Systems\n",
    "\n",
    "Depending on your Windows version you may have to install OpenSHH. For more information see [here](https://learn.microsoft.com/en-us/windows-server/administration/openssh/openssh_install_firstuse?tabs=gui#install-openssh-for-windows).\n",
    "\n",
    "\n",
    "To generate your public key, find and open terminal and type: \n"
   ]
  },
  {
   "cell_type": "code",
   "execution_count": null,
   "id": "7791f7d9",
   "metadata": {
    "vscode": {
     "languageId": "shellscript"
    }
   },
   "outputs": [],
   "source": [
    "# For linux only\n",
    "sudo apt install openssh-client\n",
    "\n",
    "\n",
    "# For both Windows & Linux\n",
    "ssh-keygen\n",
    "\n",
    "# Output: \n",
    "Generating public/private rsa key pair.\n",
    "Enter file in which to save the key (C:\\Users\\user/.ssh/id_rsa): # press enter\n",
    "Enter passphrase (empty for no passphrase):                         # press enter\n",
    "Enter same passphrase again:                                        # press enter\n",
    "Your identification has been saved in C:\\Users\\user/.ssh/id_rsa.\n",
    "Your public key has been saved in C:\\Users\\user/.ssh/id_rsa.pub.\n",
    "The key fingerprint is:\n",
    "SHA256:V4jnGjEIpUYU4tghvdfdkJj+hnd8t/E70SNGdsdepmX7E ggs\\use@CBSxxxx\n",
    "The key's randomart image is:\n",
    "+---[RSA 3072]----+\n",
    "|o o.=o....       |\n",
    "|+O++.o . .. .    |\n",
    "|=+=*o .. + o .   |\n",
    "|..oo.    = + .   |\n",
    "| ..o . .S = o o  |\n",
    "|  o . o .O o E   |\n",
    "|       o= . + .  |\n",
    "|   ..   .  = .   |\n",
    "|         .. o    |\n",
    "+----[SHA256]-----+\n"
   ]
  },
  {
   "attachments": {},
   "cell_type": "markdown",
   "id": "5b0f1fe9",
   "metadata": {},
   "source": [
    "\n",
    "## Manually locate, open and copy our public key from id_rsa.pub file. \n",
    "\n",
    "### On Windows\n",
    "\n",
    "the file might be here: \"C:\\\\Users\\write_your_user_name\\.ssh\"\n",
    "\n",
    "### On Linux\n",
    "\n",
    "The generated SSH key will be by stored under ~/.ssh/id_rsa.pub by default.\n",
    "\n",
    "More information can be found at [here](https://genome.au.dk/docs/getting-started/#public-key-authentication). \n"
   ]
  }
 ],
 "metadata": {
  "kernelspec": {
   "display_name": "R",
   "language": "R",
   "name": "ir"
  },
  "language_info": {
   "codemirror_mode": "r",
   "file_extension": ".r",
   "mimetype": "text/x-r-source",
   "name": "R",
   "pygments_lexer": "r",
   "version": "4.2.2"
  }
 },
 "nbformat": 4,
 "nbformat_minor": 5
}
