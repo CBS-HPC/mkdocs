{
 "cells": [
  {
   "attachments": {},
   "cell_type": "markdown",
   "id": "125fd174",
   "metadata": {},
   "source": [
    "# Install Stata on DieC large memory HPC/TYPE 3 (Hippo)\n",
    "\n",
    "This is a guide on how to install Stata on DieC large memory HPC/TYPE 3 (Hippo).\n",
    "\n",
    "Prerequisite reading:\n",
    "\n",
    "- [Using Conda for easy management of Python and R environments](/Tutorials/VMs/shh/)"
   ]
  },
  {
   "attachments": {},
   "cell_type": "markdown",
   "id": "fd157a5c",
   "metadata": {},
   "source": [
    "## Get Stata license and Installation file (CBS Users)\n",
    "\n",
    "Follow the instructions to get a Stata license at CBS https://studentcbs.sharepoint.com/sites/ITandCampus/SitePages/en/Free-software.aspx\n",
    "\n",
    "You will recieve an email with license and installation information (see image below).\n",
    "\n",
    "![](/Tutorials/Type3/images/stata1.PNG)\n",
    "\n",
    " Download the installation file (Stata17Linux64.tar) and upload this to your UCloud directory.\n",
    "\n",
    "![](/Tutorials/Type3/images/stata2.PNG)"
   ]
  },
  {
   "attachments": {},
   "cell_type": "markdown",
   "id": "ec7b4deb",
   "metadata": {},
   "source": [
    "## Installing Stata on Type 3\n",
    "\n",
    "### Launch a \"Terminal App\" UCloud Job and include the stata installation file (Stata17Linux64.tar)\n",
    "\n",
    "\n",
    "Run following commands in the terminal: "
   ]
  },
  {
   "cell_type": "code",
   "execution_count": null,
   "id": "e66d7259",
   "metadata": {
    "vscode": {
     "languageId": "shellscript"
    }
   },
   "outputs": [],
   "source": [
    "\n",
    "# Unzip installation file to temp folder\n",
    "mkdir /home/user/statafiles\n",
    "cd /home/user/statafiles\n",
    "tar -zxf /home/user/Stata17Linux64.tar.gz\n",
    "\n",
    "# Install Stata on in \"/home/user/stata17\". Say yes when asked during installtion\n",
    "mkdir /home/user/stata17 \n",
    "cd /home/user/stata17\n",
    "\n",
    "/home/user/statafiles/install\n",
    "\n",
    "# Set stata to Unix path\n",
    "export PATH=\"/home/user/stata17:$PATH\"\n",
    "\n",
    "# Initialize Stata\n",
    "/home/user/stata17/stinit\n",
    "\n",
    "# Follow instructions and add \"Serial number\", \"Code\" and \"Authorization\" from the Stata license mail\n",
    "\n",
    "# Check stata installation\n",
    "which stata\n",
    "\n",
    "# Run stata\n",
    "stata\n",
    "# or\n",
    "stata-se\n",
    "# or\n",
    "stata-mp\n",
    "\n",
    "# Get following dependency error: \n",
    "stata: error while loading shared libraries: libncurses.so.5: cannot open shared object file: No such file or directory\n"
   ]
  },
  {
   "cell_type": "markdown",
   "id": "f3a15e3e",
   "metadata": {},
   "source": [
    "## Install dependencies using Easybuild"
   ]
  },
  {
   "cell_type": "code",
   "execution_count": null,
   "id": "75024b29",
   "metadata": {
    "vscode": {
     "languageId": "shellscript"
    }
   },
   "outputs": [],
   "source": [
    "eb ncurses-5.9.eb -r\n",
    "\n",
    "module load ncurses/5.9"
   ]
  },
  {
   "cell_type": "markdown",
   "id": "c8b0da90",
   "metadata": {},
   "source": [
    "## Run Stata"
   ]
  },
  {
   "cell_type": "code",
   "execution_count": null,
   "id": "5752c88f",
   "metadata": {
    "vscode": {
     "languageId": "shellscript"
    }
   },
   "outputs": [],
   "source": [
    "# Run stata\n",
    "stata\n",
    "# or\n",
    "stata-se\n",
    "# or\n",
    "stata-mp\n",
    "\n",
    "# Output\n",
    "  ___  ____  ____  ____  ____ ®\n",
    " /__    /   ____/   /   ____/      17.0\n",
    "___/   /   /___/   /   /___/       BE—Basic Edition\n",
    "\n",
    " Statistics and Data Science       Copyright 1985-2021 StataCorp LLC\n",
    "                                   StataCorp\n",
    "                                   4905 Lakeway Drive\n",
    "                                   College Station, Texas 77845 USA\n",
    "                                   800-STATA-PC        https://www.stata.com\n",
    "                                   979-696-4600        stata@stata.com\n",
    "\n",
    "Stata license: Unlimited-user network, expiring 27 Dec 2023\n",
    "Serial number: 401709301397\n",
    "  Licensed to: Kristoffer Gulmark Poulsen\n",
    "               Type 3\n",
    "\n",
    "Notes:\n",
    "      1. Unicode is supported; see help unicode_advice.\n",
    "\n",
    "."
   ]
  },
  {
   "attachments": {},
   "cell_type": "markdown",
   "id": "56c07483",
   "metadata": {},
   "source": [
    "## “stata17” and \"easybuild\" will not be placed on the Hippo Home folder\n",
    "\n",
    "![](/Tutorials/Type3/images/stata3.PNG)\n",
    "\n",
    "## Activate Stata on a new Type 3 Job\n",
    "\n",
    "Add the stata17 folder to the job\n",
    "\n",
    "![](/Tutorials/Type3/images/stata4.PNG)"
   ]
  },
  {
   "cell_type": "code",
   "execution_count": null,
   "id": "e709befd",
   "metadata": {
    "vscode": {
     "languageId": "shellscript"
    }
   },
   "outputs": [],
   "source": [
    "# Set stata to Unix path\n",
    "export PATH=\"/home/user/stata17:$PATH\"\n",
    "\n",
    "# Check stata installation\n",
    "which stata\n",
    "\n",
    "# Load dependies\n",
    "module load ncurses/5.9\n",
    "\n",
    "# Run stata\n",
    "stata\n",
    "# or\n",
    "stata-se\n",
    "# or\n",
    "stata-mp\n",
    "\n",
    "# Output\n",
    "\n",
    "  ___  ____  ____  ____  ____ ®\n",
    " /__    /   ____/   /   ____/      17.0\n",
    "___/   /   /___/   /   /___/       BE—Basic Edition\n",
    "\n",
    " Statistics and Data Science       Copyright 1985-2021 StataCorp LLC\n",
    "                                   StataCorp\n",
    "                                   4905 Lakeway Drive\n",
    "                                   College Station, Texas 77845 USA\n",
    "                                   800-STATA-PC        https://www.stata.com\n",
    "                                   979-696-4600        stata@stata.com\n",
    "\n",
    "Stata license: Unlimited-user network, expiring 27 Dec 2023\n",
    "Serial number: 401709301397\n",
    "  Licensed to: Kristoffer Gulmark Poulsen\n",
    "               Type 3\n",
    "\n",
    "Notes:\n",
    "      1. Unicode is supported; see help unicode_advice.\n",
    "\n",
    "."
   ]
  },
  {
   "cell_type": "markdown",
   "id": "ce265d7e",
   "metadata": {},
   "source": [
    "## Create a Conda Stata environment\n",
    "\n",
    "Assumes that miniconda3 has been installed. For more information on how to install conda on Type 3 see [here](/Tutorials/VMs/shh/).\n"
   ]
  },
  {
   "cell_type": "code",
   "execution_count": null,
   "id": "98706613",
   "metadata": {
    "vscode": {
     "languageId": "shellscript"
    }
   },
   "outputs": [],
   "source": [
    "# Create conda environment\n",
    "conda create -n myenv_stata python\n",
    "conda activate myenv_stata\n",
    "conda install ipykernel\n",
    "pip install stata-setup\n",
    "pip install pystata\n",
    "ipython kernel install --name myenv_stata --user # Make python available to JupyterLab\n"
   ]
  },
  {
   "cell_type": "markdown",
   "id": "3631f32e",
   "metadata": {},
   "source": [
    "\n",
    "# Run Stata in a Jupyter notebook\n",
    "\n",
    "## Start Jupyter interface\n",
    "![](/Tutorials/Type3/images/stata5.PNG)\n",
    "\n",
    "## Add token to open jupyter\n",
    "![](/Tutorials/Type3/images/stata6.PNG)\n",
    "\n",
    "## Open a new python notebook\n",
    "![](/Tutorials/Type3/images/stata7.PNG)"
   ]
  },
  {
   "cell_type": "markdown",
   "id": "fe4b5d23",
   "metadata": {},
   "source": [
    "## Configure the stata installation"
   ]
  },
  {
   "cell_type": "code",
   "execution_count": null,
   "id": "d3df2299",
   "metadata": {
    "vscode": {
     "languageId": "python"
    }
   },
   "outputs": [],
   "source": [
    "import stata_setup\n",
    "\n",
    "stata_setup.config(\"/work/stata17\", \"se\")\n",
    "\n",
    "# Output\n",
    "\n",
    "  ___  ____  ____  ____  ____ ®\n",
    " /__    /   ____/   /   ____/      17.0\n",
    "___/   /   /___/   /   /___/       SE—Standard Edition\n",
    "\n",
    " Statistics and Data Science       Copyright 1985-2021 StataCorp LLC\n",
    "                                   StataCorp\n",
    "                                   4905 Lakeway Drive\n",
    "                                   College Station, Texas 77845 USA\n",
    "                                   800-STATA-PC        https://www.stata.com\n",
    "                                   979-696-4600        stata@stata.com\n",
    "\n",
    "Stata license: Unlimited-user network, expiring 27 Dec 2023\n",
    "Serial number: 401709301397\n",
    "  Licensed to: Kristoffer Gulmark Poulsen\n",
    "               CBS Account\n",
    "\n",
    "Notes:\n",
    "      1. Unicode is supported; see help unicode_advice.\n",
    "      2. Maximum number of variables is set to 5,000; see help set_maxvar."
   ]
  },
  {
   "cell_type": "markdown",
   "id": "e075d1a4",
   "metadata": {},
   "source": [
    "## Run your code using the stata magic (%%stata) the Configure the stata installation\n",
    "\n",
    "\"%%stata\" - cell magic is used to execute Stata code within a cell.\n",
    "\n",
    "\"%stata\" - line magic provides users a quick way to execute a single-line Stata command.\n",
    "\n",
    "Find more information on the stata magic [here](https://www.stata.com/python/pystata18/notebook/Quick%20Start0.html)."
   ]
  },
  {
   "cell_type": "code",
   "execution_count": null,
   "id": "8bc37837",
   "metadata": {
    "vscode": {
     "languageId": "python"
    }
   },
   "outputs": [],
   "source": [
    "%%stata\n",
    "\n",
    "sysuse auto, clear\n",
    "\n",
    "summarize mpg\n",
    "\n",
    "# Output\n",
    ". \n",
    ". sysuse auto, clear\n",
    "(1978 automobile data)\n",
    "\n",
    ". \n",
    ". summarize mpg\n",
    "\n",
    "    Variable |        Obs        Mean    Std. dev.       Min        Max\n",
    "-------------+---------------------------------------------------------\n",
    "         mpg |         74     21.2973    5.785503         12         41"
   ]
  },
  {
   "cell_type": "markdown",
   "id": "3e19ae7e",
   "metadata": {},
   "source": [
    "![](/Tutorials/Type3/images/stata8.PNG)"
   ]
  }
 ],
 "metadata": {
  "kernelspec": {
   "display_name": "R",
   "language": "R",
   "name": "ir"
  },
  "language_info": {
   "codemirror_mode": "r",
   "file_extension": ".r",
   "mimetype": "text/x-r-source",
   "name": "R",
   "pygments_lexer": "r",
   "version": "4.2.2"
  }
 },
 "nbformat": 4,
 "nbformat_minor": 5
}
