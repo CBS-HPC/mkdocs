{
 "cells": [
  {
   "attachments": {},
   "cell_type": "markdown",
   "id": "125fd174",
   "metadata": {},
   "source": [
    "# DieC large memory HPC/TYPE 3 (Hippo): Use Conda for easy management of Python and R environments\n",
    "\n",
    "https://docs.cloud.sdu.dk/hands-on/conda-setup.html?highlight=conda\n",
    "\n",
    "The Conda package and environment management system is already included in few applications available on UCloud (see, e.g., JupyerLab and PyTorch). For more general uses of Conda and its powerful package manager it is convenient to create a local installation and save it in a UCloud project.\n",
    "Conda is included in all versions of Anaconda and Miniconda. For example, to install the latest version of Miniconda, just start any interactive app on UCloud, such as Terminal, and run the following shell commands:"
   ]
  },
  {
   "attachments": {},
   "cell_type": "markdown",
   "id": "ec7b4deb",
   "metadata": {},
   "source": [
    "## Install Conda on Type 3"
   ]
  },
  {
   "cell_type": "code",
   "execution_count": null,
   "id": "e66d7259",
   "metadata": {
    "vscode": {
     "languageId": "shellscript"
    }
   },
   "outputs": [],
   "source": [
    "# Download miniconda \n",
    "curl -s -L -o /miniconda_installer.sh https://repo.anaconda.com/miniconda/Miniconda3-latest-Linux-x86_64.sh\n",
    "\n",
    "# Install miniconda\n",
    "bash miniconda_installer.sh -b -f -p miniconda3"
   ]
  },
  {
   "attachments": {},
   "cell_type": "markdown",
   "id": "56c07483",
   "metadata": {},
   "source": [
    "## Activating Conda in a new UCloud Job"
   ]
  },
  {
   "cell_type": "code",
   "execution_count": null,
   "id": "e709befd",
   "metadata": {
    "vscode": {
     "languageId": "shellscript"
    }
   },
   "outputs": [],
   "source": [
    "# Set miniconda3 to path\n",
    "export PATH=\"$HOME/miniconda3/bin:$PATH\"\n",
    "\n",
    "# activate Conda\n",
    "source $HOME/miniconda3/bin/activate\n",
    "\n",
    "# Initiate Conda\n",
    "conda init && bash -i"
   ]
  },
  {
   "attachments": {},
   "cell_type": "markdown",
   "id": "bbe47830",
   "metadata": {},
   "source": [
    "## Install Python or R environments using Conda"
   ]
  },
  {
   "cell_type": "code",
   "execution_count": null,
   "id": "6cb55c2b",
   "metadata": {
    "vscode": {
     "languageId": "shellscript"
    }
   },
   "outputs": [],
   "source": [
    "# Python\n",
    "conda create -n myenv_py python\n",
    "conda activate myenv_py\n",
    "conda install ipykernel\n",
    "ipython kernel install --name myenv_py --user # Make python available to JupyterLab\n",
    "\n",
    "# R\n",
    "conda create --solver=libmamba -n myenv_R -y -c conda-forge r-base=4.2.1 #\n",
    "conda activate myenv_R\n",
    "conda install -c conda-forge r-irkernel\n",
    "conda install jupyterlab\n",
    "R -e \"IRkernel::installspec(name = 'myenv_R', displayname = 'myenv_R')\" # Make R available to JupyterLab"
   ]
  },
  {
   "cell_type": "markdown",
   "id": "827b3c4f",
   "metadata": {},
   "source": [
    "## Start Jupyter interface\n",
    "![](/Tutorials/Type3/images/stata5.PNG)\n",
    "\n",
    "## Add token to open jupyter\n",
    "![](/Tutorials/Type3/images/stata6.PNG)\n",
    "\n",
    "## Now the conda environments are available as a Jupyter Kernel\n",
    "![](/Tutorials/Type3/images/stata7.PNG)"
   ]
  }
 ],
 "metadata": {
  "kernelspec": {
   "display_name": "R",
   "language": "R",
   "name": "ir"
  },
  "language_info": {
   "codemirror_mode": "r",
   "file_extension": ".r",
   "mimetype": "text/x-r-source",
   "name": "R",
   "pygments_lexer": "r",
   "version": "4.2.2"
  }
 },
 "nbformat": 4,
 "nbformat_minor": 5
}
