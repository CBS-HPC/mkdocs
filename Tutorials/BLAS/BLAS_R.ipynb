{
 "cells": [
  {
   "attachments": {},
   "cell_type": "markdown",
   "metadata": {},
   "source": [
    "# UCloud Tutorial: Speed up your Linear Alegbra calculations 78 times by choosing the right RStudio version on UCloud.\n",
    "\n",
    "In the context of R, there are several libraries available that interface with the BLAS and LAPACK libraries to enhance their functionality or provide alternative implementations. Here are a few notable libraries:\n",
    "\n",
    "- base R: The base R installation includes a reference BLAS implementation that provides basic linear algebra functionality. While this implementation is not as optimized as other libraries, it serves as a fallback option when more optimized libraries are not available.\n",
    "\n",
    "- OpenBLAS: OpenBLAS is an optimized BLAS and LAPACK library that offers high-performance linear algebra routines. It is widely used and provides significant speed improvements over the reference BLAS implementation in base R.\n",
    "\n",
    "- Intel MKL: The Intel Math Kernel Library (MKL) is a highly optimized set of mathematical functions for various platforms, including CPUs from Intel. It includes efficient implementations of BLAS and LAPACK routines and is known for its excellent performance. MKL is often favored for its outstanding performance on Intel architectures.\n",
    "\n",
    "- ACML: The AMD Core Math Library (ACML) is an optimized library for AMD processors. It provides optimized BLAS and LAPACK routines tailored for AMD architectures.\n",
    "\n",
    "- vecLib: vecLib is the BLAS and LAPACK library included with macOS. It provides optimized routines for Apple hardware.\n",
    "\n",
    "- ATLAS: ATLAS (Automatically Tuned Linear Algebra Software) is another popular BLAS implementation that can be used as an alternative to the reference BLAS library. ATLAS utilizes an automated tuning process to generate highly optimized code specifically tailored to the host system's architecture. It offers improved performance for various linear algebra operations.\n",
    "\n",
    "These libraries can be linked with R during installation or dynamically loaded during runtime, allowing users to choose the most suitable implementation for their specific hardware and performance requirements.\n",
    "\n",
    "In summary, the BLAS and LAPACK libraries are essential components for numerical computations and linear algebra in R. They provide efficient and optimized routines for fundamental linear algebra operations, and various libraries such as OpenBLAS, Intel MKL, ACML, vecLib, and ATLAS enhance their functionality or provide alternative implementations for improved performance.\n"
   ]
  },
  {
   "attachments": {},
   "cell_type": "markdown",
   "metadata": {},
   "source": [
    "# RStudio on UCloud\n",
    "\n",
    "When looking at the different R/RStudio version available on UCloud (see below) it can be observed that some have the suffix \"_MKL\". These have \"Intel MKL\" as their default BLAS/LAPACK library, while versions with out the suffix have the \"LibBLAST\" library whihc is the base R library on linux systems.\n",
    "\n",
    "![](/Tutorials/BLAS/Rstudio_Ucloud1.PNG)\n",
    "\n",
    "### Use the \"sessionInfo()\" function to check which BLAS/LAPACK library is deployed:\n",
    "\n",
    "**MKL**\n",
    "\n",
    "![](/Tutorials/BLAS/sessionInfo_1.PNG)\n",
    "\n",
    "**LibBLAS**\n",
    "\n",
    "![](/Tutorials/BLAS/sessionInfo_2.PNG)"
   ]
  },
  {
   "attachments": {},
   "cell_type": "markdown",
   "metadata": {},
   "source": [
    "# Benchmarking the two versions\n",
    "\n",
    "**Benchmarking a simple matrix multiplication shows that the \"MKL\" is close 78 times faster than the \"LibBLAS\"!!**\n",
    "\n",
    "**MKL** mean = 7.63 milliseconds\n",
    "\n",
    "![](/Tutorials/BLAS/benchmark_1.PNG)\n",
    "\n",
    "**LiBLAS** mean = 592.666 milliseconds\n",
    "\n",
    "![](/Tutorials/BLAS/benchmark_2.PNG)\n"
   ]
  },
  {
   "cell_type": "code",
   "execution_count": null,
   "metadata": {
    "vscode": {
     "languageId": "r"
    }
   },
   "outputs": [],
   "source": [
    "library(microbenchmark)\n",
    "\n",
    "n <- 1000\n",
    "mat1 <- matrix(rnorm(n*n), ncol=n)\n",
    "mat2 <- matrix(rnorm(n*n), ncol=n)\n",
    "\n",
    "tic()\n",
    "f <- function() mat1 %*% mat2\n",
    "res <- microbenchmark(f(), times=100L)\n",
    "res"
   ]
  },
  {
   "attachments": {},
   "cell_type": "markdown",
   "metadata": {},
   "source": [
    "# Installing and Changing BLAS & LAPACK Library\n",
    "\n",
    "Select between the available BLAS/LAPACK libraies by posting the command below i the job terminal. "
   ]
  },
  {
   "cell_type": "code",
   "execution_count": null,
   "metadata": {
    "vscode": {
     "languageId": "powershell"
    }
   },
   "outputs": [],
   "source": [
    "\n",
    "# BLAS Selection\n",
    "sudo update-alternatives --config libblas.so.3-x86_64-linux-gnu\n",
    "\n",
    "# LAPACK Selection\n",
    "sudo update-alternatives --config liblapack.so.3-x86_64-linux-gnu\n",
    "\n",
    "\n",
    "\n",
    "# BLAS Selection Output: \n",
    "There are 2 choices for the alternative libblas.so.3-x86_64-linux-gnu (providing /usr/lib/x86_64-linux-gnu/libblas.so.3).\n",
    "\n",
    "  Selection    Path                                                      Priority   Status\n",
    "------------------------------------------------------------\n",
    "* 0            /opt/intel/oneapi/mkl/2022.1.0/lib/intel64//libmkl_rt.so   50        auto mode\n",
    "  1            /opt/intel/oneapi/mkl/2022.1.0/lib/intel64//libmkl_rt.so   50        manual mode\n",
    "  2            /usr/lib/x86_64-linux-gnu/blas/libblas.so.3                10        manual mode\n",
    "\n",
    "Press <enter> to keep the current choice[*], or type selection number:"
   ]
  },
  {
   "attachments": {},
   "cell_type": "markdown",
   "metadata": {},
   "source": [
    "## Install other libraries.\n",
    "\n",
    "Changing the BLAS/LAPACK libraries is **not** possible for the \"MKL\" versions of the RStudio applications on UCloud. "
   ]
  },
  {
   "cell_type": "code",
   "execution_count": null,
   "metadata": {
    "vscode": {
     "languageId": "powershell"
    }
   },
   "outputs": [],
   "source": [
    "# Update\n",
    "sudo apt-get update\n",
    "# install OpenBLAS\n",
    "sudo apt-get install libopenblas-base\n",
    "# install ATLAS\n",
    "sudo apt-get install libatlas3-base liblapack3\n",
    "\n",
    "# BLAS Selection\n",
    "sudo update-alternatives --config libblas.so.3-x86_64-linux-gnu\n",
    "\n",
    "\n",
    "# BLAS Selection Output: \n",
    "There are 4 choices for the alternative libblas.so.3-x86_64-linux-gnu (providing /usr/lib/x86_64-linux-gnu/libblas.so.3).\n",
    "\n",
    "  Selection    Path                                                      Priority   Status\n",
    "------------------------------------------------------------\n",
    "* 0            /usr/lib/x86_64-linux-gnu/openblas-pthread/libblas.so.3    100       auto mode\n",
    "  1            /opt/intel/oneapi/mkl/2022.1.0/lib/intel64//libmkl_rt.so   50        manual mode\n",
    "  2            /usr/lib/x86_64-linux-gnu/atlas/libblas.so.3               35        manual mode\n",
    "  3            /usr/lib/x86_64-linux-gnu/blas/libblas.so.3                10        manual mode\n",
    "  4            /usr/lib/x86_64-linux-gnu/openblas-pthread/libblas.so.3    100       manual mode\n",
    "\n",
    "Press <enter> to keep the current choice[*], or type selection number: ^C"
   ]
  },
  {
   "attachments": {},
   "cell_type": "markdown",
   "metadata": {},
   "source": [
    "## Select an alternative library (Atlas libraries in this case)\n",
    "\n",
    "\n",
    "Open R and confirm the change of BLAS/LAPACK library using \"sessionInfo()\" function.\n",
    "\n",
    "![](/Tutorials/BLAS/sessionInfo_3.PNG)\n"
   ]
  }
 ],
 "metadata": {
  "kernelspec": {
   "display_name": "Python 3 (ipykernel)",
   "language": "python",
   "name": "python3"
  },
  "language_info": {
   "codemirror_mode": {
    "name": "ipython",
    "version": 3
   },
   "file_extension": ".py",
   "mimetype": "text/x-python",
   "name": "python",
   "nbconvert_exporter": "python",
   "pygments_lexer": "ipython3",
   "version": "3.9.16"
  }
 },
 "nbformat": 4,
 "nbformat_minor": 2
}
