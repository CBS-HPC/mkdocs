{
 "cells": [
  {
   "attachments": {},
   "cell_type": "markdown",
   "id": "125fd174",
   "metadata": {},
   "source": [
    "# Run Stata in Batch Mode on UCloud\n",
    "\n",
    "This is an approach to adress the UCloud capacity issues. \n",
    "\n",
    "UCloud batch processing apps are scheduled to run as resources permit without end user interaction.\n",
    "\n",
    "Prerequisite reading:\n",
    "\n",
    "- [Install Stata on UCloud](/Tutorials/STATA/install/)\n"
   ]
  },
  {
   "attachments": {},
   "cell_type": "markdown",
   "id": "caa3a442",
   "metadata": {},
   "source": [
    "### Run Stata scrip in batch mode n a new terminal job\n",
    "\n",
    "Add the \"stata17\" and other relevant folder to the job:\n",
    "\n",
    "![img5](/Tutorials/STATA/images/img5.PNG)\n",
    "\n",
    "Add a bash script(.sh) under \"Batch processing\" as one of the \"Optional Parameters\":\n",
    "\n",
    "![img6](/Tutorials/STATA/images/img6.PNG)\n",
    "![img7](/Tutorials/STATA/images/img7.PNG)\n"
   ]
  },
  {
   "attachments": {},
   "cell_type": "markdown",
   "id": "7f02b66b",
   "metadata": {},
   "source": [
    "Below shown bash script can be downloaded from [here](https://github.com/CBS-HPC/Tutorials/blob/main/STATA/batchscript.sh). Use this as a template or [create your own bash script](https://www.howtogeek.com/261591/how-to-create-and-run-bash-shell-scripts-on-windows-10/).\n",
    "\n",
    "More information on how to run Stata in batch mode can be found here: https://www.stata.com/support/faqs/unix/batch-mode/\n",
    "\n"
   ]
  },
  {
   "cell_type": "code",
   "execution_count": null,
   "id": "0d77e997",
   "metadata": {
    "vscode": {
     "languageId": "shellscript"
    }
   },
   "outputs": [],
   "source": [
    "#!/bin/bash\n",
    "\n",
    "\n",
    "# Installing dependencies\n",
    "sudo dpkg --add-architecture i386\n",
    "sudo apt-get update\n",
    "sudo apt-get install libncurses5 libncurses5:i386 -y\n",
    "\n",
    "# Set stata17 on UNIX path\n",
    "export PATH=\"/work/stata17:$PATH\"\n",
    "\n",
    "# Run stata in Batch mode\n",
    "stata -b do filename & # USER SHOULD CHANGE THIS LINE (SEE LINK Above)\n"
   ]
  }
 ],
 "metadata": {
  "kernelspec": {
   "display_name": "R",
   "language": "R",
   "name": "ir"
  },
  "language_info": {
   "codemirror_mode": "r",
   "file_extension": ".r",
   "mimetype": "text/x-r-source",
   "name": "R",
   "pygments_lexer": "r",
   "version": "4.2.2"
  }
 },
 "nbformat": 4,
 "nbformat_minor": 5
}
