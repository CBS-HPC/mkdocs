{
 "cells": [
  {
   "attachments": {},
   "cell_type": "markdown",
   "id": "125fd174",
   "metadata": {},
   "source": [
    "# Install Stata on UCloud\n",
    "\n",
    "This is a guide on how to install Stata on UCloud."
   ]
  },
  {
   "attachments": {},
   "cell_type": "markdown",
   "id": "fd157a5c",
   "metadata": {},
   "source": [
    "## Get Stata license and Installation file (CBS Users)\n",
    "\n",
    "Follow the instructions to get a Stata license at CBS https://studentcbs.sharepoint.com/sites/ITandCampus/SitePages/en/Free-software.aspx\n",
    "\n",
    "You will recieve an email with license and installation information (see image below).\n",
    "\n",
    "![img1](/Tutorials/STATA/images/img1.PNG)\n",
    "\n",
    " Download the installation file (Stata17Linux64.tar) and upload this to your UCloud directory.\n",
    "\n",
    "![img2](/Tutorials/STATA/images/img2.PNG)"
   ]
  },
  {
   "attachments": {},
   "cell_type": "markdown",
   "id": "ec7b4deb",
   "metadata": {},
   "source": [
    "## Installing Stata on UCloud\n",
    "\n",
    "### Launch a \"Terminal App\" UCloud Job and include the stata installation file (Stata17Linux64.tar)\n",
    "\n",
    "![img3](/Tutorials/STATA/images/img3.PNG)\n",
    "\n",
    "Run following commands in the terminal: "
   ]
  },
  {
   "cell_type": "code",
   "execution_count": null,
   "id": "e66d7259",
   "metadata": {
    "vscode": {
     "languageId": "shellscript"
    }
   },
   "outputs": [],
   "source": [
    "\n",
    "# Install dependencies\n",
    "sudo dpkg --add-architecture i386\n",
    "sudo apt-get update\n",
    "sudo apt-get install libncurses5 libncurses5:i386 -y\n",
    "\n",
    "# Unzip installation file to temp folder\n",
    "sudo -s\n",
    "mkdir /tmp/statafiles\n",
    "cd /tmp/statafiles\n",
    "tar -zxf /work/install/Stata17Linux64.tar.gz\n",
    "\n",
    "# Install Stata on in \"/work/stata17\". Say yes when asked during installtion\n",
    "mkdir /work/stata17 \n",
    "cd /work/stata17 \n",
    "/tmp/statafiles/install\n",
    "\n",
    "# Set stata to Unix path\n",
    "export PATH=\"/work/stata17:$PATH\"\n",
    "\n",
    "# Initialize Stata\n",
    "sudo /work/stata17/stinit\n",
    "\n",
    "# Follow instructions and add \"Serial number\", \"Code\" and \"Authorization\" from the Stata license mail\n",
    "\n",
    "# Check stata installation\n",
    "which stata\n",
    "\n",
    "# Run stata\n",
    "stata \n",
    "# or\n",
    "stata-se\n",
    "# or\n",
    "stata-mp"
   ]
  },
  {
   "attachments": {},
   "cell_type": "markdown",
   "id": "304951d2",
   "metadata": {},
   "source": [
    "### End job and copy the “stata17” folder from UCloud “Job” folder to a folder you want within your UCloud directory.\n",
    "\n",
    "![img4](/Tutorials/STATA/images/img4.PNG)"
   ]
  },
  {
   "attachments": {},
   "cell_type": "markdown",
   "id": "56c07483",
   "metadata": {},
   "source": [
    "## Activate Stata installation in a new terminal job\n",
    "\n",
    "Add the stata17 folder to the job"
   ]
  },
  {
   "cell_type": "code",
   "execution_count": null,
   "id": "e709befd",
   "metadata": {
    "vscode": {
     "languageId": "shellscript"
    }
   },
   "outputs": [],
   "source": [
    "# Install dependencies\n",
    "sudo dpkg --add-architecture i386\n",
    "sudo apt-get update\n",
    "sudo apt-get install libncurses5 libncurses5:i386 -y\n",
    "\n",
    "# Set stata to Unix path\n",
    "export PATH=\"/work/stata17:$PATH\"\n",
    "\n",
    "# Check stata installation\n",
    "which stata\n",
    "\n",
    "# Run stata\n",
    "stata \n",
    "# or\n",
    "stata-se\n",
    "# or\n",
    "stata-mp"
   ]
  }
 ],
 "metadata": {
  "kernelspec": {
   "display_name": "R",
   "language": "R",
   "name": "ir"
  },
  "language_info": {
   "codemirror_mode": "r",
   "file_extension": ".r",
   "mimetype": "text/x-r-source",
   "name": "R",
   "pygments_lexer": "r",
   "version": "4.2.2"
  }
 },
 "nbformat": 4,
 "nbformat_minor": 5
}
